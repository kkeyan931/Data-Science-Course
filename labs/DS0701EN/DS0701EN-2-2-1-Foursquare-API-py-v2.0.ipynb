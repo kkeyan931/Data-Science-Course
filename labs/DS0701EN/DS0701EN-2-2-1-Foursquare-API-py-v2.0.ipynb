{
 "cells": [
  {
   "cell_type": "markdown",
   "metadata": {
    "button": false,
    "new_sheet": false,
    "run_control": {
     "read_only": false
    }
   },
   "source": [
    "<a href=\"https://cognitiveclass.ai\"><img src = \"https://ibm.box.com/shared/static/9gegpsmnsoo25ikkbl4qzlvlyjbgxs5x.png\" width = 400> </a>\n",
    "\n",
    "<h1 align=center><font size = 5>Learning FourSquare API with Python</font></h1>\n"
   ]
  },
  {
   "cell_type": "markdown",
   "metadata": {
    "button": false,
    "new_sheet": false,
    "run_control": {
     "read_only": false
    }
   },
   "source": [
    "\n"
   ]
  },
  {
   "cell_type": "markdown",
   "metadata": {
    "button": false,
    "new_sheet": false,
    "run_control": {
     "read_only": false
    }
   },
   "source": [
    "## Introduction\n",
    "\n",
    "In this lab, you will learn in details how to make calls to the Foursquare API for different purposes. You will learn how to construct a URL to send a request to the API to search for a specific type of venues, to explore a particular venue, to explore a Foursquare user, to explore a geographical location, and to get trending venues around a location. Also, you will learn how to use the visualization library, Folium, to visualize the results.\n"
   ]
  },
  {
   "cell_type": "markdown",
   "metadata": {
    "button": false,
    "new_sheet": false,
    "run_control": {
     "read_only": false
    }
   },
   "source": [
    "## Table of Contents\n",
    "\n",
    "1.  <a href=\"#item1\">Foursquare API Search Function</a>\n",
    "2.  <a href=\"#item2\">Explore a Given Venue</a>  \n",
    "3.  <a href=\"#item3\">Explore a User</a>  \n",
    "4.  <a href=\"#item4\">Foursquare API Explore Function</a>  \n",
    "5.  <a href=\"#item5\">Get Trending Venues</a>  \n"
   ]
  },
  {
   "cell_type": "markdown",
   "metadata": {
    "button": false,
    "new_sheet": false,
    "run_control": {
     "read_only": false
    }
   },
   "source": [
    "### Import necessary Libraries\n"
   ]
  },
  {
   "cell_type": "code",
   "execution_count": 1,
   "metadata": {
    "button": false,
    "collapsed": false,
    "jupyter": {
     "outputs_hidden": false
    },
    "new_sheet": false,
    "run_control": {
     "read_only": false
    }
   },
   "outputs": [
    {
     "name": "stdout",
     "output_type": "stream",
     "text": [
      "Collecting geopy\n",
      "\u001b[?25l  Downloading https://files.pythonhosted.org/packages/0c/67/915668d0e286caa21a1da82a85ffe3d20528ec7212777b43ccd027d94023/geopy-2.1.0-py3-none-any.whl (112kB)\n",
      "\u001b[K     |████████████████████████████████| 112kB 5.6MB/s eta 0:00:01\n",
      "\u001b[?25hCollecting geographiclib<2,>=1.49 (from geopy)\n",
      "  Downloading https://files.pythonhosted.org/packages/8b/62/26ec95a98ba64299163199e95ad1b0e34ad3f4e176e221c40245f211e425/geographiclib-1.50-py3-none-any.whl\n",
      "Installing collected packages: geographiclib, geopy\n",
      "Successfully installed geographiclib-1.50 geopy-2.1.0\n",
      "Requirement already satisfied: folium==0.5.0 in /home/jupyterlab/conda/envs/python/lib/python3.6/site-packages (0.5.0)\n",
      "Requirement already satisfied: requests in /home/jupyterlab/conda/envs/python/lib/python3.6/site-packages (from folium==0.5.0) (2.25.0)\n",
      "Requirement already satisfied: six in /home/jupyterlab/conda/envs/python/lib/python3.6/site-packages (from folium==0.5.0) (1.15.0)\n",
      "Requirement already satisfied: branca in /home/jupyterlab/conda/envs/python/lib/python3.6/site-packages (from folium==0.5.0) (0.4.1)\n",
      "Requirement already satisfied: jinja2 in /home/jupyterlab/conda/envs/python/lib/python3.6/site-packages (from folium==0.5.0) (2.11.2)\n",
      "Requirement already satisfied: chardet<4,>=3.0.2 in /home/jupyterlab/conda/envs/python/lib/python3.6/site-packages (from requests->folium==0.5.0) (3.0.4)\n",
      "Requirement already satisfied: urllib3<1.27,>=1.21.1 in /home/jupyterlab/conda/envs/python/lib/python3.6/site-packages (from requests->folium==0.5.0) (1.25.11)\n",
      "Requirement already satisfied: certifi>=2017.4.17 in /home/jupyterlab/conda/envs/python/lib/python3.6/site-packages (from requests->folium==0.5.0) (2020.12.5)\n",
      "Requirement already satisfied: idna<3,>=2.5 in /home/jupyterlab/conda/envs/python/lib/python3.6/site-packages (from requests->folium==0.5.0) (2.10)\n",
      "Requirement already satisfied: MarkupSafe>=0.23 in /home/jupyterlab/conda/envs/python/lib/python3.6/site-packages (from jinja2->folium==0.5.0) (1.1.1)\n",
      "Folium installed\n",
      "Libraries imported.\n"
     ]
    }
   ],
   "source": [
    "import requests # library to handle requests\n",
    "import pandas as pd # library for data analsysis\n",
    "import numpy as np # library to handle data in a vectorized manner\n",
    "import random # library for random number generation\n",
    "\n",
    "\n",
    "!pip install geopy\n",
    "from geopy.geocoders import Nominatim # module to convert an address into latitude and longitude values\n",
    "\n",
    "# libraries for displaying images\n",
    "from IPython.display import Image \n",
    "from IPython.core.display import HTML \n",
    "    \n",
    "# tranforming json file into a pandas dataframe library\n",
    "from pandas.io.json import json_normalize\n",
    "\n",
    "\n",
    "! pip install folium==0.5.0\n",
    "import folium # plotting library\n",
    "\n",
    "print('Folium installed')\n",
    "print('Libraries imported.')"
   ]
  },
  {
   "cell_type": "markdown",
   "metadata": {
    "button": false,
    "new_sheet": false,
    "run_control": {
     "read_only": false
    }
   },
   "source": [
    "### Define Foursquare Credentials and Version\n"
   ]
  },
  {
   "cell_type": "markdown",
   "metadata": {},
   "source": [
    "https://foursquare.com/oauth2/authenticate?client_id=0URO1O34DDEKYCW0LGTEM0FYCND1KJO2EUIFKDRSGDRW3ANX&response_type=code&redirect_uri=https://www.google.com"
   ]
  },
  {
   "cell_type": "markdown",
   "metadata": {},
   "source": [
    "https://foursquare.com/oauth2/access_token?client_id=0URO1O34DDEKYCW0LGTEM0FYCND1KJO2EUIFKDRSGDRW3ANX&client_secret=KWQZIUBNSY0M1TUCU3TBYFWDXEEZUVO5WUAKUIMXBGDSQLQP&grant_type=authorization_code&redirect_uri=https://www.google.com&code=LDCCBBNBB314QLW45QWNJNVYVWTGL4NNYYXK2KU5JODO1HUY#_=_"
   ]
  },
  {
   "cell_type": "markdown",
   "metadata": {
    "button": false,
    "new_sheet": false,
    "run_control": {
     "read_only": false
    }
   },
   "source": [
    "##### Make sure that you have created a Foursquare developer account and have your credentials handy\n"
   ]
  },
  {
   "cell_type": "markdown",
   "metadata": {},
   "source": [
    "##### To obtain access token follow these steps.\n",
    "\n",
    "<br>\n",
    "\n",
    "1.  Go to your **\"App Settings\"** page on the developer console of Foursquare.com   \n",
    "2.  Set the **\"Redirect URL\"** under **\"Web Addresses\"** to [https://www.google.com](https://www.google.com?cm_mmc=Email_Newsletter-_-Developer_Ed%2BTech-_-WW_WW-_-SkillsNetwork-Courses-IBMDeveloperSkillsNetwork-DS0701EN-SkillsNetwork-21253531&cm_mmca1=000026UJ&cm_mmca2=10006555&cm_mmca3=M12345678&cvosrc=email.Newsletter.M12345678&cvo_campaign=000026UJ&cm_mmc=Email_Newsletter-_-Developer_Ed%2BTech-_-WW_WW-_-SkillsNetwork-Courses-IBMDeveloperSkillsNetwork-DS0701EN-SkillsNetwork-21253531&cm_mmca1=000026UJ&cm_mmca2=10006555&cm_mmca3=M12345678&cvosrc=email.Newsletter.M12345678&cvo_campaign=000026UJ&cm_mmc=Email_Newsletter-_-Developer_Ed%2BTech-_-WW_WW-_-SkillsNetwork-Courses-IBMDeveloperSkillsNetwork-DS0701EN-SkillsNetwork-21253531&cm_mmca1=000026UJ&cm_mmca2=10006555&cm_mmca3=M12345678&cvosrc=email.Newsletter.M12345678&cvo_campaign=000026UJ&cm_mmc=Email_Newsletter-_-Developer_Ed%2BTech-_-WW_WW-_-SkillsNetwork-Courses-IBMDeveloperSkillsNetwork-DS0701EN-SkillsNetwork-21253531&cm_mmca1=000026UJ&cm_mmca2=10006555&cm_mmca3=M12345678&cvosrc=email.Newsletter.M12345678&cvo_campaign=000026UJ&cm_mmc=Email_Newsletter-_-Developer_Ed%2BTech-_-WW_WW-_-SkillsNetwork-Courses-IBMDeveloperSkillsNetwork-DS0701EN-SkillsNetwork-21253531&cm_mmca1=000026UJ&cm_mmca2=10006555&cm_mmca3=M12345678&cvosrc=email.Newsletter.M12345678&cvo_campaign=000026UJ&cm_mmc=Email_Newsletter-_-Developer_Ed%2BTech-_-WW_WW-_-SkillsNetwork-Courses-IBMDeveloperSkillsNetwork-DS0701EN-SkillsNetwork-21253531&cm_mmca1=000026UJ&cm_mmca2=10006555&cm_mmca3=M12345678&cvosrc=email.Newsletter.M12345678&cvo_campaign=000026UJ)  \n",
    "\n",
    "\n",
    "3.  Paste and enter the following url in your web browser **(replace YOUR_CLIENT_ID with your actual client id)**:  \n",
    "    [https://foursquare.com/oauth2/authenticate?client_id=YOUR_CLIENT_ID&response_type=code&redirect_uri=https://www.google.com](https://foursquare.com/oauth2/authenticate?client_id=YOUR_CLIENT_ID&response_type=code&redirect_uri=https://www.google.com&cm_mmc=Email_Newsletter-_-Developer_Ed%2BTech-_-WW_WW-_-SkillsNetwork-Courses-IBMDeveloperSkillsNetwork-DS0701EN-SkillsNetwork-21253531&cm_mmca1=000026UJ&cm_mmca2=10006555&cm_mmca3=M12345678&cvosrc=email.Newsletter.M12345678&cvo_campaign=000026UJ) \n",
    "\n",
    "    This should redirect you to a google page requesting permission to make the connection. \n",
    "4.  Accept and then look at the url of your web browser **(take note at the CODE part of the url to use in step 5)**  \n",
    "    It should look like [https://www.google.com/?code=CODE](https://www.google.com?code=CODE&cm_mmc=Email_Newsletter-_-Developer_Ed%2BTech-_-WW_WW-_-SkillsNetwork-Courses-IBMDeveloperSkillsNetwork-DS0701EN-SkillsNetwork-21253531&cm_mmca1=000026UJ&cm_mmca2=10006555&cm_mmca3=M12345678&cvosrc=email.Newsletter.M12345678&cvo_campaign=000026UJ)  \n",
    "5.  Copy the code value from the previous step.  \n",
    "       Paste and enter the following into your web browser **(replace placeholders with actual values)**:  \n",
    "    [https://foursquare.com/oauth2/access_token?client_id=YOUR_CLIENT_ID&client_secret=YOUR_CLIENT_SECRET&grant_type=authorization_code&redirect_uri=https://www.google.com&code=CODE](https://foursquare.com/oauth2/access_token?client_id=YOUR_CLIENT_ID&client_secret=YOUR_CLIENT_SECRET&grant_type=authorization_code&redirect_uri=https://www.google.com&code=CODE&cm_mmc=Email_Newsletter-_-Developer_Ed%2BTech-_-WW_WW-_-SkillsNetwork-Courses-IBMDeveloperSkillsNetwork-DS0701EN-SkillsNetwork-21253531&cm_mmca1=000026UJ&cm_mmca2=10006555&cm_mmca3=M12345678&cvosrc=email.Newsletter.M12345678&cvo_campaign=000026UJ).  \n",
    "6.  When you paste the link , This should lead you to a page that gives you your **access token**.\n"
   ]
  },
  {
   "cell_type": "code",
   "execution_count": 2,
   "metadata": {
    "button": false,
    "collapsed": false,
    "jupyter": {
     "outputs_hidden": false
    },
    "new_sheet": false,
    "run_control": {
     "read_only": false
    }
   },
   "outputs": [
    {
     "name": "stdout",
     "output_type": "stream",
     "text": [
      "Your credentails:\n",
      "CLIENT_ID: 0URO1O34DDEKYCW0LGTEM0FYCND1KJO2EUIFKDRSGDRW3ANX\n",
      "CLIENT_SECRET:KWQZIUBNSY0M1TUCU3TBYFWDXEEZUVO5WUAKUIMXBGDSQLQP\n"
     ]
    }
   ],
   "source": [
    "CLIENT_ID = '0URO1O34DDEKYCW0LGTEM0FYCND1KJO2EUIFKDRSGDRW3ANX' # your Foursquare ID\n",
    "CLIENT_SECRET = 'KWQZIUBNSY0M1TUCU3TBYFWDXEEZUVO5WUAKUIMXBGDSQLQP' # your Foursquare Secret\n",
    "ACCESS_TOKEN = 'GTOWUUSG0OKY5ZGXCNEW00GN25TKAHZOOMS4LVS2IGOHZ4B3' # your FourSquare Access Token\n",
    "VERSION = '20180604'\n",
    "LIMIT = 30\n",
    "print('Your credentails:')\n",
    "print('CLIENT_ID: ' + CLIENT_ID)\n",
    "print('CLIENT_SECRET:' + CLIENT_SECRET)"
   ]
  },
  {
   "cell_type": "markdown",
   "metadata": {
    "button": false,
    "new_sheet": false,
    "run_control": {
     "read_only": false
    }
   },
   "source": [
    "\n"
   ]
  },
  {
   "cell_type": "markdown",
   "metadata": {
    "button": false,
    "new_sheet": false,
    "run_control": {
     "read_only": false
    }
   },
   "source": [
    "#### Let's again assume that you are staying at the Conrad hotel. So let's start by converting the Contrad Hotel's address to its latitude and longitude coordinates.\n"
   ]
  },
  {
   "cell_type": "markdown",
   "metadata": {},
   "source": [
    "In order to define an instance of the geocoder, we need to define a user_agent. We will name our agent <em>foursquare_agent</em>, as shown below.\n"
   ]
  },
  {
   "cell_type": "code",
   "execution_count": 3,
   "metadata": {
    "button": false,
    "collapsed": false,
    "jupyter": {
     "outputs_hidden": false
    },
    "new_sheet": false,
    "run_control": {
     "read_only": false
    }
   },
   "outputs": [
    {
     "name": "stdout",
     "output_type": "stream",
     "text": [
      "40.7149555 -74.0153365\n"
     ]
    }
   ],
   "source": [
    "address = '102 North End Ave, New York, NY'\n",
    "\n",
    "geolocator = Nominatim(user_agent=\"foursquare_agent\")\n",
    "location = geolocator.geocode(address)\n",
    "latitude = location.latitude\n",
    "longitude = location.longitude\n",
    "print(latitude, longitude)"
   ]
  },
  {
   "cell_type": "markdown",
   "metadata": {
    "button": false,
    "new_sheet": false,
    "run_control": {
     "read_only": false
    }
   },
   "source": [
    "\n"
   ]
  },
  {
   "cell_type": "markdown",
   "metadata": {
    "button": false,
    "new_sheet": false,
    "run_control": {
     "read_only": false
    }
   },
   "source": [
    "<a id=\"item1\"></a>\n"
   ]
  },
  {
   "cell_type": "markdown",
   "metadata": {
    "button": false,
    "new_sheet": false,
    "run_control": {
     "read_only": false
    }
   },
   "source": [
    "## 1. Search for a specific venue category\n",
    "\n",
    "> `https://api.foursquare.com/v2/venues/`**search**`?client_id=`**CLIENT_ID**`&client_secret=`**CLIENT_SECRET**`&ll=`**LATITUDE**`,`**LONGITUDE**`&v=`**VERSION**`&query=`**QUERY**`&radius=`**RADIUS**`&limit=`**LIMIT**\n"
   ]
  },
  {
   "cell_type": "markdown",
   "metadata": {
    "button": false,
    "new_sheet": false,
    "run_control": {
     "read_only": false
    }
   },
   "source": [
    "#### Now, let's assume that it is lunch time, and you are craving Italian food. So, let's define a query to search for Italian food that is within 500 metres from the Conrad Hotel.\n"
   ]
  },
  {
   "cell_type": "code",
   "execution_count": 4,
   "metadata": {
    "button": false,
    "collapsed": false,
    "jupyter": {
     "outputs_hidden": false
    },
    "new_sheet": false,
    "run_control": {
     "read_only": false
    },
    "scrolled": true
   },
   "outputs": [
    {
     "name": "stdout",
     "output_type": "stream",
     "text": [
      "Italian .... OK!\n"
     ]
    }
   ],
   "source": [
    "search_query = 'Italian'\n",
    "radius = 500\n",
    "print(search_query + ' .... OK!')"
   ]
  },
  {
   "cell_type": "markdown",
   "metadata": {
    "button": false,
    "new_sheet": false,
    "run_control": {
     "read_only": false
    }
   },
   "source": [
    "#### Define the corresponding URL\n"
   ]
  },
  {
   "cell_type": "code",
   "execution_count": 5,
   "metadata": {
    "button": false,
    "collapsed": false,
    "jupyter": {
     "outputs_hidden": false
    },
    "new_sheet": false,
    "run_control": {
     "read_only": false
    }
   },
   "outputs": [
    {
     "data": {
      "text/plain": [
       "'https://api.foursquare.com/v2/venues/search?client_id=0URO1O34DDEKYCW0LGTEM0FYCND1KJO2EUIFKDRSGDRW3ANX&client_secret=KWQZIUBNSY0M1TUCU3TBYFWDXEEZUVO5WUAKUIMXBGDSQLQP&ll=40.7149555,-74.0153365&oauth_token=GTOWUUSG0OKY5ZGXCNEW00GN25TKAHZOOMS4LVS2IGOHZ4B3&v=20180604&query=Italian&radius=500&limit=30'"
      ]
     },
     "execution_count": 5,
     "metadata": {},
     "output_type": "execute_result"
    }
   ],
   "source": [
    "url = 'https://api.foursquare.com/v2/venues/search?client_id={}&client_secret={}&ll={},{}&oauth_token={}&v={}&query={}&radius={}&limit={}'.format(CLIENT_ID, CLIENT_SECRET, latitude, longitude,ACCESS_TOKEN, VERSION, search_query, radius, LIMIT)\n",
    "url"
   ]
  },
  {
   "cell_type": "markdown",
   "metadata": {
    "button": false,
    "new_sheet": false,
    "run_control": {
     "read_only": false
    }
   },
   "source": [
    "#### Send the GET Request and examine the results\n"
   ]
  },
  {
   "cell_type": "code",
   "execution_count": 6,
   "metadata": {
    "button": false,
    "collapsed": false,
    "jupyter": {
     "outputs_hidden": false
    },
    "new_sheet": false,
    "run_control": {
     "read_only": false
    },
    "scrolled": true
   },
   "outputs": [
    {
     "data": {
      "text/plain": [
       "{'meta': {'code': 200, 'requestId': '6011158ad90e36725ef05612'},\n",
       " 'notifications': [{'type': 'notificationTray', 'item': {'unreadCount': 0}}],\n",
       " 'response': {'venues': [{'id': '4fa862b3e4b0ebff2f749f06',\n",
       "    'name': \"Harry's Italian Pizza Bar\",\n",
       "    'location': {'address': '225 Murray St',\n",
       "     'lat': 40.71521779064671,\n",
       "     'lng': -74.01473940209351,\n",
       "     'labeledLatLngs': [{'label': 'display',\n",
       "       'lat': 40.71521779064671,\n",
       "       'lng': -74.01473940209351},\n",
       "      {'label': 'entrance', 'lat': 40.715361, 'lng': -74.014975}],\n",
       "     'distance': 58,\n",
       "     'postalCode': '10282',\n",
       "     'cc': 'US',\n",
       "     'city': 'New York',\n",
       "     'state': 'NY',\n",
       "     'country': 'United States',\n",
       "     'formattedAddress': ['225 Murray St',\n",
       "      'New York, NY 10282',\n",
       "      'United States']},\n",
       "    'categories': [{'id': '4bf58dd8d48988d1ca941735',\n",
       "      'name': 'Pizza Place',\n",
       "      'pluralName': 'Pizza Places',\n",
       "      'shortName': 'Pizza',\n",
       "      'icon': {'prefix': 'https://ss3.4sqi.net/img/categories_v2/food/pizza_',\n",
       "       'suffix': '.png'},\n",
       "      'primary': True}],\n",
       "    'referralId': 'v-1611732362',\n",
       "    'hasPerk': False},\n",
       "   {'id': '4f3232e219836c91c7bfde94',\n",
       "    'name': 'Conca Cucina Italian Restaurant',\n",
       "    'location': {'address': '63 W Broadway',\n",
       "     'lat': 40.714484000000006,\n",
       "     'lng': -74.00980600000001,\n",
       "     'labeledLatLngs': [{'label': 'display',\n",
       "       'lat': 40.714484000000006,\n",
       "       'lng': -74.00980600000001}],\n",
       "     'distance': 469,\n",
       "     'postalCode': '10007',\n",
       "     'cc': 'US',\n",
       "     'city': 'New York',\n",
       "     'state': 'NY',\n",
       "     'country': 'United States',\n",
       "     'formattedAddress': ['63 W Broadway',\n",
       "      'New York, NY 10007',\n",
       "      'United States']},\n",
       "    'categories': [{'id': '4d4b7105d754a06374d81259',\n",
       "      'name': 'Food',\n",
       "      'pluralName': 'Food',\n",
       "      'shortName': 'Food',\n",
       "      'icon': {'prefix': 'https://ss3.4sqi.net/img/categories_v2/food/default_',\n",
       "       'suffix': '.png'},\n",
       "      'primary': True}],\n",
       "    'referralId': 'v-1611732362',\n",
       "    'hasPerk': False},\n",
       "   {'id': '3fd66200f964a520f4e41ee3',\n",
       "    'name': 'Ecco',\n",
       "    'location': {'address': '124 Chambers St',\n",
       "     'crossStreet': 'btwn Church St & W Broadway',\n",
       "     'lat': 40.71533713859952,\n",
       "     'lng': -74.00884766217825,\n",
       "     'labeledLatLngs': [{'label': 'display',\n",
       "       'lat': 40.71533713859952,\n",
       "       'lng': -74.00884766217825},\n",
       "      {'label': 'entrance', 'lat': 40.715202, 'lng': -74.008779}],\n",
       "     'distance': 549,\n",
       "     'postalCode': '10007',\n",
       "     'cc': 'US',\n",
       "     'city': 'New York',\n",
       "     'state': 'NY',\n",
       "     'country': 'United States',\n",
       "     'formattedAddress': ['124 Chambers St (btwn Church St & W Broadway)',\n",
       "      'New York, NY 10007',\n",
       "      'United States']},\n",
       "    'categories': [{'id': '4bf58dd8d48988d110941735',\n",
       "      'name': 'Italian Restaurant',\n",
       "      'pluralName': 'Italian Restaurants',\n",
       "      'shortName': 'Italian',\n",
       "      'icon': {'prefix': 'https://ss3.4sqi.net/img/categories_v2/food/italian_',\n",
       "       'suffix': '.png'},\n",
       "      'primary': True}],\n",
       "    'referralId': 'v-1611732362',\n",
       "    'hasPerk': False}]}}"
      ]
     },
     "execution_count": 6,
     "metadata": {},
     "output_type": "execute_result"
    }
   ],
   "source": [
    "results = requests.get(url).json()\n",
    "results"
   ]
  },
  {
   "cell_type": "markdown",
   "metadata": {
    "button": false,
    "new_sheet": false,
    "run_control": {
     "read_only": false
    }
   },
   "source": [
    "#### Get relevant part of JSON and transform it into a _pandas_ dataframe\n"
   ]
  },
  {
   "cell_type": "code",
   "execution_count": 7,
   "metadata": {
    "button": false,
    "collapsed": false,
    "jupyter": {
     "outputs_hidden": false
    },
    "new_sheet": false,
    "run_control": {
     "read_only": false
    }
   },
   "outputs": [
    {
     "name": "stderr",
     "output_type": "stream",
     "text": [
      "/home/jupyterlab/conda/envs/python/lib/python3.6/site-packages/ipykernel_launcher.py:5: FutureWarning: pandas.io.json.json_normalize is deprecated, use pandas.json_normalize instead\n",
      "  \"\"\"\n"
     ]
    },
    {
     "data": {
      "text/html": [
       "<div>\n",
       "<style scoped>\n",
       "    .dataframe tbody tr th:only-of-type {\n",
       "        vertical-align: middle;\n",
       "    }\n",
       "\n",
       "    .dataframe tbody tr th {\n",
       "        vertical-align: top;\n",
       "    }\n",
       "\n",
       "    .dataframe thead th {\n",
       "        text-align: right;\n",
       "    }\n",
       "</style>\n",
       "<table border=\"1\" class=\"dataframe\">\n",
       "  <thead>\n",
       "    <tr style=\"text-align: right;\">\n",
       "      <th></th>\n",
       "      <th>id</th>\n",
       "      <th>name</th>\n",
       "      <th>categories</th>\n",
       "      <th>referralId</th>\n",
       "      <th>hasPerk</th>\n",
       "      <th>location.address</th>\n",
       "      <th>location.lat</th>\n",
       "      <th>location.lng</th>\n",
       "      <th>location.labeledLatLngs</th>\n",
       "      <th>location.distance</th>\n",
       "      <th>location.postalCode</th>\n",
       "      <th>location.cc</th>\n",
       "      <th>location.city</th>\n",
       "      <th>location.state</th>\n",
       "      <th>location.country</th>\n",
       "      <th>location.formattedAddress</th>\n",
       "      <th>location.crossStreet</th>\n",
       "    </tr>\n",
       "  </thead>\n",
       "  <tbody>\n",
       "    <tr>\n",
       "      <th>0</th>\n",
       "      <td>4fa862b3e4b0ebff2f749f06</td>\n",
       "      <td>Harry's Italian Pizza Bar</td>\n",
       "      <td>[{'id': '4bf58dd8d48988d1ca941735', 'name': 'P...</td>\n",
       "      <td>v-1611732362</td>\n",
       "      <td>False</td>\n",
       "      <td>225 Murray St</td>\n",
       "      <td>40.715218</td>\n",
       "      <td>-74.014739</td>\n",
       "      <td>[{'label': 'display', 'lat': 40.71521779064671...</td>\n",
       "      <td>58</td>\n",
       "      <td>10282</td>\n",
       "      <td>US</td>\n",
       "      <td>New York</td>\n",
       "      <td>NY</td>\n",
       "      <td>United States</td>\n",
       "      <td>[225 Murray St, New York, NY 10282, United Sta...</td>\n",
       "      <td>NaN</td>\n",
       "    </tr>\n",
       "    <tr>\n",
       "      <th>1</th>\n",
       "      <td>4f3232e219836c91c7bfde94</td>\n",
       "      <td>Conca Cucina Italian Restaurant</td>\n",
       "      <td>[{'id': '4d4b7105d754a06374d81259', 'name': 'F...</td>\n",
       "      <td>v-1611732362</td>\n",
       "      <td>False</td>\n",
       "      <td>63 W Broadway</td>\n",
       "      <td>40.714484</td>\n",
       "      <td>-74.009806</td>\n",
       "      <td>[{'label': 'display', 'lat': 40.71448400000000...</td>\n",
       "      <td>469</td>\n",
       "      <td>10007</td>\n",
       "      <td>US</td>\n",
       "      <td>New York</td>\n",
       "      <td>NY</td>\n",
       "      <td>United States</td>\n",
       "      <td>[63 W Broadway, New York, NY 10007, United Sta...</td>\n",
       "      <td>NaN</td>\n",
       "    </tr>\n",
       "    <tr>\n",
       "      <th>2</th>\n",
       "      <td>3fd66200f964a520f4e41ee3</td>\n",
       "      <td>Ecco</td>\n",
       "      <td>[{'id': '4bf58dd8d48988d110941735', 'name': 'I...</td>\n",
       "      <td>v-1611732362</td>\n",
       "      <td>False</td>\n",
       "      <td>124 Chambers St</td>\n",
       "      <td>40.715337</td>\n",
       "      <td>-74.008848</td>\n",
       "      <td>[{'label': 'display', 'lat': 40.71533713859952...</td>\n",
       "      <td>549</td>\n",
       "      <td>10007</td>\n",
       "      <td>US</td>\n",
       "      <td>New York</td>\n",
       "      <td>NY</td>\n",
       "      <td>United States</td>\n",
       "      <td>[124 Chambers St (btwn Church St &amp; W Broadway)...</td>\n",
       "      <td>btwn Church St &amp; W Broadway</td>\n",
       "    </tr>\n",
       "  </tbody>\n",
       "</table>\n",
       "</div>"
      ],
      "text/plain": [
       "                         id                             name  \\\n",
       "0  4fa862b3e4b0ebff2f749f06        Harry's Italian Pizza Bar   \n",
       "1  4f3232e219836c91c7bfde94  Conca Cucina Italian Restaurant   \n",
       "2  3fd66200f964a520f4e41ee3                             Ecco   \n",
       "\n",
       "                                          categories    referralId  hasPerk  \\\n",
       "0  [{'id': '4bf58dd8d48988d1ca941735', 'name': 'P...  v-1611732362    False   \n",
       "1  [{'id': '4d4b7105d754a06374d81259', 'name': 'F...  v-1611732362    False   \n",
       "2  [{'id': '4bf58dd8d48988d110941735', 'name': 'I...  v-1611732362    False   \n",
       "\n",
       "  location.address  location.lat  location.lng  \\\n",
       "0    225 Murray St     40.715218    -74.014739   \n",
       "1    63 W Broadway     40.714484    -74.009806   \n",
       "2  124 Chambers St     40.715337    -74.008848   \n",
       "\n",
       "                             location.labeledLatLngs  location.distance  \\\n",
       "0  [{'label': 'display', 'lat': 40.71521779064671...                 58   \n",
       "1  [{'label': 'display', 'lat': 40.71448400000000...                469   \n",
       "2  [{'label': 'display', 'lat': 40.71533713859952...                549   \n",
       "\n",
       "  location.postalCode location.cc location.city location.state  \\\n",
       "0               10282          US      New York             NY   \n",
       "1               10007          US      New York             NY   \n",
       "2               10007          US      New York             NY   \n",
       "\n",
       "  location.country                          location.formattedAddress  \\\n",
       "0    United States  [225 Murray St, New York, NY 10282, United Sta...   \n",
       "1    United States  [63 W Broadway, New York, NY 10007, United Sta...   \n",
       "2    United States  [124 Chambers St (btwn Church St & W Broadway)...   \n",
       "\n",
       "          location.crossStreet  \n",
       "0                          NaN  \n",
       "1                          NaN  \n",
       "2  btwn Church St & W Broadway  "
      ]
     },
     "execution_count": 7,
     "metadata": {},
     "output_type": "execute_result"
    }
   ],
   "source": [
    "# assign relevant part of JSON to venues\n",
    "venues = results['response']['venues']\n",
    "\n",
    "# tranform venues into a dataframe\n",
    "dataframe = json_normalize(venues)\n",
    "dataframe.head()"
   ]
  },
  {
   "cell_type": "markdown",
   "metadata": {
    "button": false,
    "new_sheet": false,
    "run_control": {
     "read_only": false
    }
   },
   "source": [
    "#### Define information of interest and filter dataframe\n"
   ]
  },
  {
   "cell_type": "code",
   "execution_count": 8,
   "metadata": {
    "button": false,
    "collapsed": false,
    "jupyter": {
     "outputs_hidden": false
    },
    "new_sheet": false,
    "run_control": {
     "read_only": false
    },
    "scrolled": true
   },
   "outputs": [
    {
     "data": {
      "text/html": [
       "<div>\n",
       "<style scoped>\n",
       "    .dataframe tbody tr th:only-of-type {\n",
       "        vertical-align: middle;\n",
       "    }\n",
       "\n",
       "    .dataframe tbody tr th {\n",
       "        vertical-align: top;\n",
       "    }\n",
       "\n",
       "    .dataframe thead th {\n",
       "        text-align: right;\n",
       "    }\n",
       "</style>\n",
       "<table border=\"1\" class=\"dataframe\">\n",
       "  <thead>\n",
       "    <tr style=\"text-align: right;\">\n",
       "      <th></th>\n",
       "      <th>name</th>\n",
       "      <th>categories</th>\n",
       "      <th>address</th>\n",
       "      <th>lat</th>\n",
       "      <th>lng</th>\n",
       "      <th>labeledLatLngs</th>\n",
       "      <th>distance</th>\n",
       "      <th>postalCode</th>\n",
       "      <th>cc</th>\n",
       "      <th>city</th>\n",
       "      <th>state</th>\n",
       "      <th>country</th>\n",
       "      <th>formattedAddress</th>\n",
       "      <th>crossStreet</th>\n",
       "      <th>id</th>\n",
       "    </tr>\n",
       "  </thead>\n",
       "  <tbody>\n",
       "    <tr>\n",
       "      <th>0</th>\n",
       "      <td>Harry's Italian Pizza Bar</td>\n",
       "      <td>Pizza Place</td>\n",
       "      <td>225 Murray St</td>\n",
       "      <td>40.715218</td>\n",
       "      <td>-74.014739</td>\n",
       "      <td>[{'label': 'display', 'lat': 40.71521779064671...</td>\n",
       "      <td>58</td>\n",
       "      <td>10282</td>\n",
       "      <td>US</td>\n",
       "      <td>New York</td>\n",
       "      <td>NY</td>\n",
       "      <td>United States</td>\n",
       "      <td>[225 Murray St, New York, NY 10282, United Sta...</td>\n",
       "      <td>NaN</td>\n",
       "      <td>4fa862b3e4b0ebff2f749f06</td>\n",
       "    </tr>\n",
       "    <tr>\n",
       "      <th>1</th>\n",
       "      <td>Conca Cucina Italian Restaurant</td>\n",
       "      <td>Food</td>\n",
       "      <td>63 W Broadway</td>\n",
       "      <td>40.714484</td>\n",
       "      <td>-74.009806</td>\n",
       "      <td>[{'label': 'display', 'lat': 40.71448400000000...</td>\n",
       "      <td>469</td>\n",
       "      <td>10007</td>\n",
       "      <td>US</td>\n",
       "      <td>New York</td>\n",
       "      <td>NY</td>\n",
       "      <td>United States</td>\n",
       "      <td>[63 W Broadway, New York, NY 10007, United Sta...</td>\n",
       "      <td>NaN</td>\n",
       "      <td>4f3232e219836c91c7bfde94</td>\n",
       "    </tr>\n",
       "    <tr>\n",
       "      <th>2</th>\n",
       "      <td>Ecco</td>\n",
       "      <td>Italian Restaurant</td>\n",
       "      <td>124 Chambers St</td>\n",
       "      <td>40.715337</td>\n",
       "      <td>-74.008848</td>\n",
       "      <td>[{'label': 'display', 'lat': 40.71533713859952...</td>\n",
       "      <td>549</td>\n",
       "      <td>10007</td>\n",
       "      <td>US</td>\n",
       "      <td>New York</td>\n",
       "      <td>NY</td>\n",
       "      <td>United States</td>\n",
       "      <td>[124 Chambers St (btwn Church St &amp; W Broadway)...</td>\n",
       "      <td>btwn Church St &amp; W Broadway</td>\n",
       "      <td>3fd66200f964a520f4e41ee3</td>\n",
       "    </tr>\n",
       "  </tbody>\n",
       "</table>\n",
       "</div>"
      ],
      "text/plain": [
       "                              name          categories          address  \\\n",
       "0        Harry's Italian Pizza Bar         Pizza Place    225 Murray St   \n",
       "1  Conca Cucina Italian Restaurant                Food    63 W Broadway   \n",
       "2                             Ecco  Italian Restaurant  124 Chambers St   \n",
       "\n",
       "         lat        lng                                     labeledLatLngs  \\\n",
       "0  40.715218 -74.014739  [{'label': 'display', 'lat': 40.71521779064671...   \n",
       "1  40.714484 -74.009806  [{'label': 'display', 'lat': 40.71448400000000...   \n",
       "2  40.715337 -74.008848  [{'label': 'display', 'lat': 40.71533713859952...   \n",
       "\n",
       "   distance postalCode  cc      city state        country  \\\n",
       "0        58      10282  US  New York    NY  United States   \n",
       "1       469      10007  US  New York    NY  United States   \n",
       "2       549      10007  US  New York    NY  United States   \n",
       "\n",
       "                                    formattedAddress  \\\n",
       "0  [225 Murray St, New York, NY 10282, United Sta...   \n",
       "1  [63 W Broadway, New York, NY 10007, United Sta...   \n",
       "2  [124 Chambers St (btwn Church St & W Broadway)...   \n",
       "\n",
       "                   crossStreet                        id  \n",
       "0                          NaN  4fa862b3e4b0ebff2f749f06  \n",
       "1                          NaN  4f3232e219836c91c7bfde94  \n",
       "2  btwn Church St & W Broadway  3fd66200f964a520f4e41ee3  "
      ]
     },
     "execution_count": 8,
     "metadata": {},
     "output_type": "execute_result"
    }
   ],
   "source": [
    "# keep only columns that include venue name, and anything that is associated with location\n",
    "filtered_columns = ['name', 'categories'] + [col for col in dataframe.columns if col.startswith('location.')] + ['id']\n",
    "dataframe_filtered = dataframe.loc[:, filtered_columns]\n",
    "\n",
    "# function that extracts the category of the venue\n",
    "def get_category_type(row):\n",
    "    try:\n",
    "        categories_list = row['categories']\n",
    "    except:\n",
    "        categories_list = row['venue.categories']\n",
    "        \n",
    "    if len(categories_list) == 0:\n",
    "        return None\n",
    "    else:\n",
    "        return categories_list[0]['name']\n",
    "\n",
    "# filter the category for each row\n",
    "dataframe_filtered['categories'] = dataframe_filtered.apply(get_category_type, axis=1)\n",
    "\n",
    "# clean column names by keeping only last term\n",
    "dataframe_filtered.columns = [column.split('.')[-1] for column in dataframe_filtered.columns]\n",
    "\n",
    "dataframe_filtered"
   ]
  },
  {
   "cell_type": "markdown",
   "metadata": {
    "button": false,
    "new_sheet": false,
    "run_control": {
     "read_only": false
    }
   },
   "source": [
    "#### Let's visualize the Italian restaurants that are nearby\n"
   ]
  },
  {
   "cell_type": "code",
   "execution_count": 9,
   "metadata": {
    "button": false,
    "collapsed": false,
    "jupyter": {
     "outputs_hidden": false
    },
    "new_sheet": false,
    "run_control": {
     "read_only": false
    }
   },
   "outputs": [
    {
     "data": {
      "text/plain": [
       "0          Harry's Italian Pizza Bar\n",
       "1    Conca Cucina Italian Restaurant\n",
       "2                               Ecco\n",
       "Name: name, dtype: object"
      ]
     },
     "execution_count": 9,
     "metadata": {},
     "output_type": "execute_result"
    }
   ],
   "source": [
    "dataframe_filtered.name"
   ]
  },
  {
   "cell_type": "code",
   "execution_count": 10,
   "metadata": {
    "button": false,
    "collapsed": false,
    "jupyter": {
     "outputs_hidden": false
    },
    "new_sheet": false,
    "run_control": {
     "read_only": false
    },
    "scrolled": true
   },
   "outputs": [
    {
     "data": {
      "text/html": [
       "<div style=\"width:100%;\"><div style=\"position:relative;width:100%;height:0;padding-bottom:60%;\"><span style=\"color:#565656\">Make this Notebook Trusted to load map: File -> Trust Notebook</span><iframe src=\"about:blank\" style=\"position:absolute;width:100%;height:100%;left:0;top:0;border:none !important;\" data-html=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 onload=\"this.contentDocument.open();this.contentDocument.write(atob(this.getAttribute('data-html')));this.contentDocument.close();\" allowfullscreen webkitallowfullscreen mozallowfullscreen></iframe></div></div>"
      ],
      "text/plain": [
       "<folium.folium.Map at 0x7f5508883550>"
      ]
     },
     "execution_count": 10,
     "metadata": {},
     "output_type": "execute_result"
    }
   ],
   "source": [
    "venues_map = folium.Map(location=[latitude, longitude], zoom_start=13) # generate map centred around the Conrad Hotel\n",
    "\n",
    "# add a red circle marker to represent the Conrad Hotel\n",
    "folium.CircleMarker(\n",
    "    [latitude, longitude],\n",
    "    radius=10,\n",
    "    color='red',\n",
    "    popup='Conrad Hotel',\n",
    "    fill = True,\n",
    "    fill_color = 'red',\n",
    "    fill_opacity = 0.6\n",
    ").add_to(venues_map)\n",
    "\n",
    "# add the Italian restaurants as blue circle markers\n",
    "for lat, lng, label in zip(dataframe_filtered.lat, dataframe_filtered.lng, dataframe_filtered.categories):\n",
    "    folium.CircleMarker(\n",
    "        [lat, lng],\n",
    "        radius=5,\n",
    "        color='blue',\n",
    "        popup=label,\n",
    "        fill = True,\n",
    "        fill_color='blue',\n",
    "        fill_opacity=0.6\n",
    "    ).add_to(venues_map)\n",
    "\n",
    "# display map\n",
    "venues_map"
   ]
  },
  {
   "cell_type": "markdown",
   "metadata": {
    "button": false,
    "new_sheet": false,
    "run_control": {
     "read_only": false
    }
   },
   "source": [
    "\n"
   ]
  },
  {
   "cell_type": "markdown",
   "metadata": {
    "button": false,
    "new_sheet": false,
    "run_control": {
     "read_only": false
    }
   },
   "source": [
    "<a id=\"item2\"></a>\n"
   ]
  },
  {
   "cell_type": "markdown",
   "metadata": {
    "button": false,
    "new_sheet": false,
    "run_control": {
     "read_only": false
    }
   },
   "source": [
    "## 2. Explore a Given Venue\n",
    "\n",
    "> `https://api.foursquare.com/v2/venues/`**VENUE_ID**`?client_id=`**CLIENT_ID**`&client_secret=`**CLIENT_SECRET**`&v=`**VERSION**\n"
   ]
  },
  {
   "cell_type": "markdown",
   "metadata": {
    "button": false,
    "new_sheet": false,
    "run_control": {
     "read_only": false
    }
   },
   "source": [
    "### A. Let's explore the closest Italian restaurant -- _Harry's Italian Pizza Bar_\n"
   ]
  },
  {
   "cell_type": "code",
   "execution_count": 11,
   "metadata": {
    "button": false,
    "collapsed": false,
    "jupyter": {
     "outputs_hidden": false
    },
    "new_sheet": false,
    "run_control": {
     "read_only": false
    }
   },
   "outputs": [
    {
     "data": {
      "text/plain": [
       "'https://api.foursquare.com/v2/venues/4fa862b3e4b0ebff2f749f06?client_id=0URO1O34DDEKYCW0LGTEM0FYCND1KJO2EUIFKDRSGDRW3ANX&client_secret=KWQZIUBNSY0M1TUCU3TBYFWDXEEZUVO5WUAKUIMXBGDSQLQP&oauth_token=GTOWUUSG0OKY5ZGXCNEW00GN25TKAHZOOMS4LVS2IGOHZ4B3&v=20180604'"
      ]
     },
     "execution_count": 11,
     "metadata": {},
     "output_type": "execute_result"
    }
   ],
   "source": [
    "venue_id = '4fa862b3e4b0ebff2f749f06' # ID of Harry's Italian Pizza Bar\n",
    "url = 'https://api.foursquare.com/v2/venues/{}?client_id={}&client_secret={}&oauth_token={}&v={}'.format(venue_id, CLIENT_ID, CLIENT_SECRET,ACCESS_TOKEN, VERSION)\n",
    "url"
   ]
  },
  {
   "cell_type": "markdown",
   "metadata": {
    "button": false,
    "new_sheet": false,
    "run_control": {
     "read_only": false
    }
   },
   "source": [
    "#### Send GET request for result\n"
   ]
  },
  {
   "cell_type": "code",
   "execution_count": 13,
   "metadata": {
    "button": false,
    "collapsed": false,
    "jupyter": {
     "outputs_hidden": false
    },
    "new_sheet": false,
    "run_control": {
     "read_only": false
    }
   },
   "outputs": [
    {
     "name": "stdout",
     "output_type": "stream",
     "text": [
      "dict_keys(['id', 'name', 'contact', 'location', 'canonicalUrl', 'categories', 'verified', 'stats', 'url', 'price', 'hasMenu', 'likes', 'like', 'dislike', 'ok', 'rating', 'ratingColor', 'ratingSignals', 'menu', 'allowMenuUrlEdit', 'beenHere', 'specials', 'photos', 'reasons', 'hereNow', 'createdAt', 'tips', 'shortUrl', 'timeZone', 'listed', 'hours', 'popular', 'seasonalHours', 'defaultHours', 'pageUpdates', 'inbox', 'attributes', 'bestPhoto', 'colors'])\n"
     ]
    },
    {
     "data": {
      "text/plain": [
       "{'id': '4fa862b3e4b0ebff2f749f06',\n",
       " 'name': \"Harry's Italian Pizza Bar\",\n",
       " 'contact': {'phone': '+12126081007', 'formattedPhone': '+1 212-608-1007'},\n",
       " 'location': {'address': '225 Murray St',\n",
       "  'lat': 40.71521779064671,\n",
       "  'lng': -74.01473940209351,\n",
       "  'labeledLatLngs': [{'label': 'display',\n",
       "    'lat': 40.71521779064671,\n",
       "    'lng': -74.01473940209351},\n",
       "   {'label': 'entrance', 'lat': 40.715361, 'lng': -74.014975}],\n",
       "  'postalCode': '10282',\n",
       "  'cc': 'US',\n",
       "  'city': 'New York',\n",
       "  'state': 'NY',\n",
       "  'country': 'United States',\n",
       "  'formattedAddress': ['225 Murray St',\n",
       "   'New York, NY 10282',\n",
       "   'United States']},\n",
       " 'canonicalUrl': 'https://foursquare.com/v/harrys-italian-pizza-bar/4fa862b3e4b0ebff2f749f06',\n",
       " 'categories': [{'id': '4bf58dd8d48988d1ca941735',\n",
       "   'name': 'Pizza Place',\n",
       "   'pluralName': 'Pizza Places',\n",
       "   'shortName': 'Pizza',\n",
       "   'icon': {'prefix': 'https://ss3.4sqi.net/img/categories_v2/food/pizza_',\n",
       "    'suffix': '.png'},\n",
       "   'primary': True},\n",
       "  {'id': '4bf58dd8d48988d110941735',\n",
       "   'name': 'Italian Restaurant',\n",
       "   'pluralName': 'Italian Restaurants',\n",
       "   'shortName': 'Italian',\n",
       "   'icon': {'prefix': 'https://ss3.4sqi.net/img/categories_v2/food/italian_',\n",
       "    'suffix': '.png'}}],\n",
       " 'verified': False,\n",
       " 'stats': {'tipCount': 56},\n",
       " 'url': 'http://harrysitalian.com',\n",
       " 'price': {'tier': 2, 'message': 'Moderate', 'currency': '$'},\n",
       " 'hasMenu': True,\n",
       " 'likes': {'count': 120,\n",
       "  'groups': [{'type': 'others', 'count': 120, 'items': []}],\n",
       "  'summary': '120 Likes'},\n",
       " 'like': False,\n",
       " 'dislike': False,\n",
       " 'ok': False,\n",
       " 'rating': 6.9,\n",
       " 'ratingColor': 'FFC800',\n",
       " 'ratingSignals': 211,\n",
       " 'menu': {'type': 'Menu',\n",
       "  'label': 'Menu',\n",
       "  'anchor': 'View Menu',\n",
       "  'url': 'https://foursquare.com/v/harrys-italian-pizza-bar/4fa862b3e4b0ebff2f749f06/menu',\n",
       "  'mobileUrl': 'https://foursquare.com/v/4fa862b3e4b0ebff2f749f06/device_menu'},\n",
       " 'allowMenuUrlEdit': True,\n",
       " 'beenHere': {'count': 0,\n",
       "  'unconfirmedCount': 0,\n",
       "  'marked': False,\n",
       "  'lastCheckinExpiredAt': 0},\n",
       " 'specials': {'count': 0, 'items': []},\n",
       " 'photos': {'count': 146,\n",
       "  'groups': [{'type': 'venue',\n",
       "    'name': 'Venue photos',\n",
       "    'count': 146,\n",
       "    'items': [{'id': '4fad980de4b091b4626c3633',\n",
       "      'createdAt': 1336776717,\n",
       "      'source': {'name': 'Foursquare for Android',\n",
       "       'url': 'https://foursquare.com/download/#/android'},\n",
       "      'prefix': 'https://fastly.4sqi.net/img/general/',\n",
       "      'suffix': '/ya1iQFI7pLjuIJp1PGDKlrZS3OJdHCF7tpILMmjv_2w.jpg',\n",
       "      'width': 480,\n",
       "      'height': 640,\n",
       "      'user': {'id': '13676709',\n",
       "       'firstName': 'Leony',\n",
       "       'lastName': 'Naciri',\n",
       "       'gender': 'none',\n",
       "       'countryCode': 'US',\n",
       "       'photo': {'prefix': 'https://fastly.4sqi.net/img/user/',\n",
       "        'suffix': '/T0ANFNGNMCHUDEUE.jpg'}},\n",
       "      'visibility': 'public'}]}]},\n",
       " 'reasons': {'count': 1,\n",
       "  'items': [{'summary': 'Lots of people like this place',\n",
       "    'type': 'general',\n",
       "    'reasonName': 'rawLikesReason'}]},\n",
       " 'hereNow': {'count': 0, 'summary': 'Nobody here', 'groups': []},\n",
       " 'createdAt': 1336435379,\n",
       " 'tips': {'count': 56,\n",
       "  'groups': [{'type': 'following',\n",
       "    'name': 'Tips from people you follow',\n",
       "    'count': 0,\n",
       "    'items': []},\n",
       "   {'type': 'others',\n",
       "    'name': 'All tips',\n",
       "    'count': 56,\n",
       "    'items': [{'id': '53d27909498e0523841340b6',\n",
       "      'createdAt': 1406302473,\n",
       "      'text': \"Harry's Italian Pizza bar is known for it's amazing pizza, but did you know that the brunches here are amazing too? Try the Nutella French toast and we know you'll be sold.\",\n",
       "      'type': 'user',\n",
       "      'canonicalUrl': 'https://foursquare.com/item/53d27909498e0523841340b6',\n",
       "      'likes': {'count': 4,\n",
       "       'groups': [{'type': 'others',\n",
       "         'count': 4,\n",
       "         'items': [{'id': '87587879',\n",
       "           'firstName': 'Diane',\n",
       "           'lastName': 'Danneels',\n",
       "           'gender': 'female',\n",
       "           'countryCode': 'US',\n",
       "           'photo': {'prefix': 'https://fastly.4sqi.net/img/user/',\n",
       "            'suffix': '/87587879-ESLRSZLQ2CBE2P4W.jpg'}},\n",
       "          {'id': '87591341',\n",
       "           'firstName': 'Tim',\n",
       "           'lastName': 'Sheehan',\n",
       "           'gender': 'male',\n",
       "           'countryCode': 'US',\n",
       "           'photo': {'prefix': 'https://fastly.4sqi.net/img/user/',\n",
       "            'suffix': '/-Z4YK4VKE0JSVXIY1.jpg'}},\n",
       "          {'id': '87473404',\n",
       "           'firstName': 'TenantKing.com',\n",
       "           'gender': 'none',\n",
       "           'countryCode': 'US',\n",
       "           'photo': {'prefix': 'https://fastly.4sqi.net/img/user/',\n",
       "            'suffix': '/87473404-HI5DTBTK0HX401CA.png'},\n",
       "           'type': 'page'}]}],\n",
       "       'summary': '4 likes'},\n",
       "      'like': False,\n",
       "      'logView': True,\n",
       "      'agreeCount': 3,\n",
       "      'disagreeCount': 0,\n",
       "      'todo': {'count': 0},\n",
       "      'user': {'id': '87473404',\n",
       "       'firstName': 'TenantKing.com',\n",
       "       'gender': 'none',\n",
       "       'countryCode': 'US',\n",
       "       'photo': {'prefix': 'https://fastly.4sqi.net/img/user/',\n",
       "        'suffix': '/87473404-HI5DTBTK0HX401CA.png'},\n",
       "       'type': 'page'}}]}]},\n",
       " 'shortUrl': 'http://4sq.com/JNblHV',\n",
       " 'timeZone': 'America/New_York',\n",
       " 'listed': {'count': 54,\n",
       "  'groups': [{'type': 'others',\n",
       "    'name': 'Lists from other people',\n",
       "    'count': 54,\n",
       "    'items': [{'id': '4fa32fd0e4b04193744746b1',\n",
       "      'name': 'Manhattan Haunts',\n",
       "      'description': '',\n",
       "      'type': 'others',\n",
       "      'user': {'id': '24592223',\n",
       "       'firstName': 'Becca',\n",
       "       'lastName': 'McArthur',\n",
       "       'gender': 'female',\n",
       "       'countryCode': 'US',\n",
       "       'photo': {'prefix': 'https://fastly.4sqi.net/img/user/',\n",
       "        'suffix': '/24592223-RAW2UYM0GIB1U40K.jpg'}},\n",
       "      'editable': False,\n",
       "      'public': True,\n",
       "      'collaborative': False,\n",
       "      'url': '/becca_mcarthur/list/manhattan-haunts',\n",
       "      'canonicalUrl': 'https://foursquare.com/becca_mcarthur/list/manhattan-haunts',\n",
       "      'createdAt': 1336094672,\n",
       "      'updatedAt': 1380845377,\n",
       "      'photo': {'id': '4e8cc9461081e3b3544e12e5',\n",
       "       'createdAt': 1317849414,\n",
       "       'prefix': 'https://fastly.4sqi.net/img/general/',\n",
       "       'suffix': '/0NLVU2HC1JF4DXIMKWUFW3QBUT31DC11EFNYYHMJG3NDWAPS.jpg',\n",
       "       'width': 492,\n",
       "       'height': 330,\n",
       "       'user': {'id': '742542',\n",
       "        'firstName': 'Time Out New York',\n",
       "        'gender': 'none',\n",
       "        'countryCode': 'US',\n",
       "        'photo': {'prefix': 'https://fastly.4sqi.net/img/user/',\n",
       "         'suffix': '/XXHKCBSQHBORZNSR.jpg'},\n",
       "        'type': 'page'},\n",
       "       'visibility': 'public'},\n",
       "      'followers': {'count': 22},\n",
       "      'listItems': {'count': 187,\n",
       "       'items': [{'id': 'v4fa862b3e4b0ebff2f749f06',\n",
       "         'createdAt': 1342934485}]}},\n",
       "     {'id': '4fae817be4b085f6b2a74d19',\n",
       "      'name': 'USA NYC MAN FiDi',\n",
       "      'description': 'Where to go for decent eats in the restaurant wasteland of Downtown NYC aka FiDi, along with Tribeca & Battery Park City.',\n",
       "      'type': 'others',\n",
       "      'user': {'id': '12113441',\n",
       "       'firstName': 'Kino',\n",
       "       'gender': 'male',\n",
       "       'countryCode': 'US',\n",
       "       'photo': {'prefix': 'https://fastly.4sqi.net/img/user/',\n",
       "        'suffix': '/12113441-K5HTHFLU2MUCM0CM.jpg'}},\n",
       "      'editable': False,\n",
       "      'public': True,\n",
       "      'collaborative': False,\n",
       "      'url': '/kinosfault/list/usa-nyc-man-fidi',\n",
       "      'canonicalUrl': 'https://foursquare.com/kinosfault/list/usa-nyc-man-fidi',\n",
       "      'createdAt': 1336836475,\n",
       "      'updatedAt': 1556754919,\n",
       "      'photo': {'id': '55984992498e13ba75e353bb',\n",
       "       'createdAt': 1436043666,\n",
       "       'prefix': 'https://fastly.4sqi.net/img/general/',\n",
       "       'suffix': '/12113441_iOa6Uh-Xi8bhj2-gpzkkw8MKiAIs7RmOcz_RM7m8ink.jpg',\n",
       "       'width': 540,\n",
       "       'height': 960,\n",
       "       'user': {'id': '12113441',\n",
       "        'firstName': 'Kino',\n",
       "        'gender': 'male',\n",
       "        'countryCode': 'US',\n",
       "        'photo': {'prefix': 'https://fastly.4sqi.net/img/user/',\n",
       "         'suffix': '/12113441-K5HTHFLU2MUCM0CM.jpg'}},\n",
       "       'visibility': 'public'},\n",
       "      'followers': {'count': 20},\n",
       "      'listItems': {'count': 273,\n",
       "       'items': [{'id': 'v4fa862b3e4b0ebff2f749f06',\n",
       "         'createdAt': 1373909433}]}}]}]},\n",
       " 'hours': {'status': 'Closed until 11:30 AM',\n",
       "  'richStatus': {'entities': [], 'text': 'Closed until 11:30 AM'},\n",
       "  'isOpen': False,\n",
       "  'isLocalHoliday': False,\n",
       "  'dayData': [],\n",
       "  'timeframes': [{'days': 'Mon–Wed, Sun',\n",
       "    'includesToday': True,\n",
       "    'open': [{'renderedTime': '11:30 AM–11:00 PM'}],\n",
       "    'segments': []},\n",
       "   {'days': 'Thu–Sat',\n",
       "    'open': [{'renderedTime': '11:30 AM–Midnight'}],\n",
       "    'segments': []}]},\n",
       " 'popular': {'isOpen': False,\n",
       "  'isLocalHoliday': False,\n",
       "  'timeframes': [{'days': 'Today',\n",
       "    'includesToday': True,\n",
       "    'open': [{'renderedTime': 'Noon–2:00 PM'},\n",
       "     {'renderedTime': '5:00 PM–10:00 PM'}],\n",
       "    'segments': []},\n",
       "   {'days': 'Thu',\n",
       "    'open': [{'renderedTime': 'Noon–2:00 PM'},\n",
       "     {'renderedTime': '5:00 PM–10:00 PM'}],\n",
       "    'segments': []},\n",
       "   {'days': 'Fri',\n",
       "    'open': [{'renderedTime': 'Noon–3:00 PM'},\n",
       "     {'renderedTime': '5:00 PM–11:00 PM'}],\n",
       "    'segments': []},\n",
       "   {'days': 'Sat',\n",
       "    'open': [{'renderedTime': 'Noon–11:00 PM'}],\n",
       "    'segments': []},\n",
       "   {'days': 'Sun',\n",
       "    'open': [{'renderedTime': 'Noon–3:00 PM'},\n",
       "     {'renderedTime': '5:00 PM–8:00 PM'}],\n",
       "    'segments': []},\n",
       "   {'days': 'Mon',\n",
       "    'open': [{'renderedTime': 'Noon–2:00 PM'},\n",
       "     {'renderedTime': '6:00 PM–8:00 PM'}],\n",
       "    'segments': []},\n",
       "   {'days': 'Tue',\n",
       "    'open': [{'renderedTime': 'Noon–2:00 PM'},\n",
       "     {'renderedTime': '5:00 PM–10:00 PM'}],\n",
       "    'segments': []}]},\n",
       " 'seasonalHours': [],\n",
       " 'defaultHours': {'status': 'Closed until 11:30 AM',\n",
       "  'richStatus': {'entities': [], 'text': 'Closed until 11:30 AM'},\n",
       "  'isOpen': False,\n",
       "  'isLocalHoliday': False,\n",
       "  'dayData': [],\n",
       "  'timeframes': [{'days': 'Mon–Wed, Sun',\n",
       "    'includesToday': True,\n",
       "    'open': [{'renderedTime': '11:30 AM–11:00 PM'}],\n",
       "    'segments': []},\n",
       "   {'days': 'Thu–Sat',\n",
       "    'open': [{'renderedTime': '11:30 AM–Midnight'}],\n",
       "    'segments': []}]},\n",
       " 'pageUpdates': {'count': 0, 'items': []},\n",
       " 'inbox': {'count': 0, 'items': []},\n",
       " 'attributes': {'groups': [{'type': 'price',\n",
       "    'name': 'Price',\n",
       "    'summary': '$$',\n",
       "    'count': 1,\n",
       "    'items': [{'displayName': 'Price', 'displayValue': '$$', 'priceTier': 2}]},\n",
       "   {'type': 'payments',\n",
       "    'name': 'Credit Cards',\n",
       "    'summary': 'Credit Cards',\n",
       "    'count': 7,\n",
       "    'items': [{'displayName': 'Credit Cards',\n",
       "      'displayValue': 'Yes (incl. American Express)'}]},\n",
       "   {'type': 'outdoorSeating',\n",
       "    'name': 'Outdoor Seating',\n",
       "    'summary': 'Outdoor Seating',\n",
       "    'count': 1,\n",
       "    'items': [{'displayName': 'Outdoor Seating', 'displayValue': 'Yes'}]},\n",
       "   {'type': 'serves',\n",
       "    'name': 'Menus',\n",
       "    'summary': 'Happy Hour, Brunch & more',\n",
       "    'count': 8,\n",
       "    'items': [{'displayName': 'Brunch', 'displayValue': 'Brunch'},\n",
       "     {'displayName': 'Lunch', 'displayValue': 'Lunch'},\n",
       "     {'displayName': 'Dinner', 'displayValue': 'Dinner'},\n",
       "     {'displayName': 'Happy Hour', 'displayValue': 'Happy Hour'}]},\n",
       "   {'type': 'drinks',\n",
       "    'name': 'Drinks',\n",
       "    'summary': 'Beer, Wine & Cocktails',\n",
       "    'count': 5,\n",
       "    'items': [{'displayName': 'Beer', 'displayValue': 'Beer'},\n",
       "     {'displayName': 'Wine', 'displayValue': 'Wine'},\n",
       "     {'displayName': 'Cocktails', 'displayValue': 'Cocktails'}]}]},\n",
       " 'bestPhoto': {'id': '4fad980de4b091b4626c3633',\n",
       "  'createdAt': 1336776717,\n",
       "  'source': {'name': 'Foursquare for Android',\n",
       "   'url': 'https://foursquare.com/download/#/android'},\n",
       "  'prefix': 'https://fastly.4sqi.net/img/general/',\n",
       "  'suffix': '/ya1iQFI7pLjuIJp1PGDKlrZS3OJdHCF7tpILMmjv_2w.jpg',\n",
       "  'width': 480,\n",
       "  'height': 640,\n",
       "  'visibility': 'public'},\n",
       " 'colors': {'highlightColor': {'photoId': '4fad980de4b091b4626c3633',\n",
       "   'value': -13619152},\n",
       "  'highlightTextColor': {'photoId': '4fad980de4b091b4626c3633', 'value': -1},\n",
       "  'algoVersion': 3}}"
      ]
     },
     "execution_count": 13,
     "metadata": {},
     "output_type": "execute_result"
    }
   ],
   "source": [
    "result = requests.get(url).json()\n",
    "print(result['response']['venue'].keys())\n",
    "result['response']['venue']"
   ]
  },
  {
   "cell_type": "markdown",
   "metadata": {
    "button": false,
    "new_sheet": false,
    "run_control": {
     "read_only": false
    }
   },
   "source": [
    "### B. Get the venue's overall rating\n"
   ]
  },
  {
   "cell_type": "code",
   "execution_count": 14,
   "metadata": {
    "button": false,
    "collapsed": false,
    "jupyter": {
     "outputs_hidden": false
    },
    "new_sheet": false,
    "run_control": {
     "read_only": false
    }
   },
   "outputs": [
    {
     "name": "stdout",
     "output_type": "stream",
     "text": [
      "6.9\n"
     ]
    }
   ],
   "source": [
    "try:\n",
    "    print(result['response']['venue']['rating'])\n",
    "except:\n",
    "    print('This venue has not been rated yet.')"
   ]
  },
  {
   "cell_type": "markdown",
   "metadata": {
    "button": false,
    "new_sheet": false,
    "run_control": {
     "read_only": false
    }
   },
   "source": [
    "That is not a very good rating. Let's check the rating of the second closest Italian restaurant.\n"
   ]
  },
  {
   "cell_type": "code",
   "execution_count": 15,
   "metadata": {
    "button": false,
    "collapsed": false,
    "jupyter": {
     "outputs_hidden": false
    },
    "new_sheet": false,
    "run_control": {
     "read_only": false
    }
   },
   "outputs": [
    {
     "name": "stdout",
     "output_type": "stream",
     "text": [
      "This venue has not been rated yet.\n"
     ]
    }
   ],
   "source": [
    "venue_id = '4f3232e219836c91c7bfde94' # ID of Conca Cucina Italian Restaurant\n",
    "url = 'https://api.foursquare.com/v2/venues/{}?client_id={}&client_secret={}&oauth_token={}&v={}'.format(venue_id, CLIENT_ID, CLIENT_SECRET,ACCESS_TOKEN, VERSION)\n",
    "\n",
    "result = requests.get(url).json()\n",
    "try:\n",
    "    print(result['response']['venue']['rating'])\n",
    "except:\n",
    "    print('This venue has not been rated yet.')"
   ]
  },
  {
   "cell_type": "markdown",
   "metadata": {
    "button": false,
    "new_sheet": false,
    "run_control": {
     "read_only": false
    }
   },
   "source": [
    "Since this restaurant has no ratings, let's check the third restaurant.\n"
   ]
  },
  {
   "cell_type": "code",
   "execution_count": 16,
   "metadata": {
    "button": false,
    "collapsed": false,
    "jupyter": {
     "outputs_hidden": false
    },
    "new_sheet": false,
    "run_control": {
     "read_only": false
    }
   },
   "outputs": [
    {
     "name": "stdout",
     "output_type": "stream",
     "text": [
      "7.3\n"
     ]
    }
   ],
   "source": [
    "venue_id = '3fd66200f964a520f4e41ee3' # ID of Ecco\n",
    "url = 'https://api.foursquare.com/v2/venues/{}?client_id={}&client_secret={}&oauth_token={}&v={}'.format(venue_id, CLIENT_ID, CLIENT_SECRET,ACCESS_TOKEN, VERSION)\n",
    "\n",
    "result = requests.get(url).json()\n",
    "try:\n",
    "    print(result['response']['venue']['rating'])\n",
    "except:\n",
    "    print('This venue has not been rated yet.')"
   ]
  },
  {
   "cell_type": "markdown",
   "metadata": {
    "button": false,
    "new_sheet": false,
    "run_control": {
     "read_only": false
    }
   },
   "source": [
    "Since this restaurant has a slightly better rating, let's explore it further.\n"
   ]
  },
  {
   "cell_type": "markdown",
   "metadata": {
    "button": false,
    "new_sheet": false,
    "run_control": {
     "read_only": false
    }
   },
   "source": [
    "### C. Get the number of tips\n"
   ]
  },
  {
   "cell_type": "code",
   "execution_count": 17,
   "metadata": {
    "button": false,
    "collapsed": false,
    "jupyter": {
     "outputs_hidden": false
    },
    "new_sheet": false,
    "run_control": {
     "read_only": false
    }
   },
   "outputs": [
    {
     "data": {
      "text/plain": [
       "19"
      ]
     },
     "execution_count": 17,
     "metadata": {},
     "output_type": "execute_result"
    }
   ],
   "source": [
    "result['response']['venue']['tips']['count']"
   ]
  },
  {
   "cell_type": "markdown",
   "metadata": {
    "button": false,
    "new_sheet": false,
    "run_control": {
     "read_only": false
    }
   },
   "source": [
    "### D. Get the venue's tips\n",
    "\n",
    "> `https://api.foursquare.com/v2/venues/`**VENUE_ID**`/tips?client_id=`**CLIENT_ID**`&client_secret=`**CLIENT_SECRET**`&v=`**VERSION**`&limit=`**LIMIT**\n"
   ]
  },
  {
   "cell_type": "markdown",
   "metadata": {
    "button": false,
    "new_sheet": false,
    "run_control": {
     "read_only": false
    }
   },
   "source": [
    "#### Create URL and send GET request. Make sure to set limit to get all tips\n"
   ]
  },
  {
   "cell_type": "code",
   "execution_count": 18,
   "metadata": {
    "button": false,
    "collapsed": false,
    "jupyter": {
     "outputs_hidden": false
    },
    "new_sheet": false,
    "run_control": {
     "read_only": false
    }
   },
   "outputs": [
    {
     "data": {
      "text/plain": [
       "{'meta': {'code': 200, 'requestId': '601119b269387b0b1f215ba7'},\n",
       " 'notifications': [{'type': 'notificationTray', 'item': {'unreadCount': 0}}],\n",
       " 'response': {'tips': {'count': 18,\n",
       "   'items': [{'id': '5ab1cb46c9a517174651d3fe',\n",
       "     'createdAt': 1521601350,\n",
       "     'text': 'A+ Italian food! Trust me on this: my mom’s side of the family is 100% Italian. I was born and bred to know good pasta when I see it, and Ecco is one of my all-time NYC favorites',\n",
       "     'type': 'user',\n",
       "     'canonicalUrl': 'https://foursquare.com/item/5ab1cb46c9a517174651d3fe',\n",
       "     'likes': {'count': 0, 'groups': []},\n",
       "     'like': False,\n",
       "     'logView': True,\n",
       "     'agreeCount': 5,\n",
       "     'disagreeCount': 0,\n",
       "     'todo': {'count': 0},\n",
       "     'user': {'id': '484542633',\n",
       "      'firstName': 'Nick',\n",
       "      'lastName': 'El-Tawil',\n",
       "      'gender': 'male',\n",
       "      'address': '',\n",
       "      'city': '',\n",
       "      'state': '',\n",
       "      'photo': {'prefix': 'https://fastly.4sqi.net/img/user/',\n",
       "       'suffix': '/484542633_64VpAzxd_1j4zzJ30WhPZsmHMDuV8MDuVX-EkAi2dpa3rHAwENMIZZnAdWajmzXmFL6SegZsB.jpg'}},\n",
       "     'authorInteractionType': 'liked'}]}}}"
      ]
     },
     "execution_count": 18,
     "metadata": {},
     "output_type": "execute_result"
    }
   ],
   "source": [
    "## Ecco Tips\n",
    "limit = 15 # set limit to be greater than or equal to the total number of tips\n",
    "url = 'https://api.foursquare.com/v2/venues/{}/tips?client_id={}&client_secret={}&oauth_token={}&v={}&limit={}'.format(venue_id, CLIENT_ID, CLIENT_SECRET,ACCESS_TOKEN, VERSION, limit)\n",
    "\n",
    "results = requests.get(url).json()\n",
    "results"
   ]
  },
  {
   "cell_type": "markdown",
   "metadata": {
    "button": false,
    "new_sheet": false,
    "run_control": {
     "read_only": false
    }
   },
   "source": [
    "#### Get tips and list of associated features\n"
   ]
  },
  {
   "cell_type": "code",
   "execution_count": 19,
   "metadata": {
    "button": false,
    "collapsed": false,
    "jupyter": {
     "outputs_hidden": false
    },
    "new_sheet": false,
    "run_control": {
     "read_only": false
    }
   },
   "outputs": [
    {
     "data": {
      "text/plain": [
       "dict_keys(['id', 'createdAt', 'text', 'type', 'canonicalUrl', 'likes', 'like', 'logView', 'agreeCount', 'disagreeCount', 'todo', 'user', 'authorInteractionType'])"
      ]
     },
     "execution_count": 19,
     "metadata": {},
     "output_type": "execute_result"
    }
   ],
   "source": [
    "tips = results['response']['tips']['items']\n",
    "\n",
    "tip = results['response']['tips']['items'][0]\n",
    "tip.keys()"
   ]
  },
  {
   "cell_type": "markdown",
   "metadata": {
    "button": false,
    "new_sheet": false,
    "run_control": {
     "read_only": false
    }
   },
   "source": [
    "#### Format column width and display all tips\n"
   ]
  },
  {
   "cell_type": "code",
   "execution_count": 20,
   "metadata": {
    "button": false,
    "collapsed": false,
    "jupyter": {
     "outputs_hidden": false
    },
    "new_sheet": false,
    "run_control": {
     "read_only": false
    }
   },
   "outputs": [
    {
     "name": "stderr",
     "output_type": "stream",
     "text": [
      "/home/jupyterlab/conda/envs/python/lib/python3.6/site-packages/ipykernel_launcher.py:1: FutureWarning: Passing a negative integer is deprecated in version 1.0 and will not be supported in future version. Instead, use None to not limit the column width.\n",
      "  \"\"\"Entry point for launching an IPython kernel.\n",
      "/home/jupyterlab/conda/envs/python/lib/python3.6/site-packages/ipykernel_launcher.py:3: FutureWarning: pandas.io.json.json_normalize is deprecated, use pandas.json_normalize instead\n",
      "  This is separate from the ipykernel package so we can avoid doing imports until\n"
     ]
    },
    {
     "data": {
      "text/html": [
       "<div>\n",
       "<style scoped>\n",
       "    .dataframe tbody tr th:only-of-type {\n",
       "        vertical-align: middle;\n",
       "    }\n",
       "\n",
       "    .dataframe tbody tr th {\n",
       "        vertical-align: top;\n",
       "    }\n",
       "\n",
       "    .dataframe thead th {\n",
       "        text-align: right;\n",
       "    }\n",
       "</style>\n",
       "<table border=\"1\" class=\"dataframe\">\n",
       "  <thead>\n",
       "    <tr style=\"text-align: right;\">\n",
       "      <th></th>\n",
       "      <th>text</th>\n",
       "      <th>agreeCount</th>\n",
       "      <th>disagreeCount</th>\n",
       "      <th>id</th>\n",
       "      <th>user.firstName</th>\n",
       "      <th>user.lastName</th>\n",
       "      <th>user.id</th>\n",
       "    </tr>\n",
       "  </thead>\n",
       "  <tbody>\n",
       "    <tr>\n",
       "      <th>0</th>\n",
       "      <td>A+ Italian food! Trust me on this: my mom’s side of the family is 100% Italian. I was born and bred to know good pasta when I see it, and Ecco is one of my all-time NYC favorites</td>\n",
       "      <td>5</td>\n",
       "      <td>0</td>\n",
       "      <td>5ab1cb46c9a517174651d3fe</td>\n",
       "      <td>Nick</td>\n",
       "      <td>El-Tawil</td>\n",
       "      <td>484542633</td>\n",
       "    </tr>\n",
       "  </tbody>\n",
       "</table>\n",
       "</div>"
      ],
      "text/plain": [
       "                                                                                                                                                                                 text  \\\n",
       "0  A+ Italian food! Trust me on this: my mom’s side of the family is 100% Italian. I was born and bred to know good pasta when I see it, and Ecco is one of my all-time NYC favorites   \n",
       "\n",
       "   agreeCount  disagreeCount                        id user.firstName  \\\n",
       "0  5           0              5ab1cb46c9a517174651d3fe  Nick            \n",
       "\n",
       "  user.lastName    user.id  \n",
       "0  El-Tawil      484542633  "
      ]
     },
     "execution_count": 20,
     "metadata": {},
     "output_type": "execute_result"
    }
   ],
   "source": [
    "pd.set_option('display.max_colwidth', -1)\n",
    "\n",
    "tips_df = json_normalize(tips) # json normalize tips\n",
    "\n",
    "# columns to keep\n",
    "filtered_columns = ['text', 'agreeCount', 'disagreeCount', 'id', 'user.firstName', 'user.lastName', 'user.id']\n",
    "tips_filtered = tips_df.loc[:, filtered_columns]\n",
    "\n",
    "# display tips\n",
    "tips_filtered.reindex()"
   ]
  },
  {
   "cell_type": "markdown",
   "metadata": {
    "button": false,
    "new_sheet": false,
    "run_control": {
     "read_only": false
    }
   },
   "source": [
    "Now remember that because we are using a personal developer account, then we can access only 2 of the restaurant's tips, instead of all 15 tips.\n"
   ]
  },
  {
   "cell_type": "markdown",
   "metadata": {
    "button": false,
    "new_sheet": false,
    "run_control": {
     "read_only": false
    }
   },
   "source": [
    "\n"
   ]
  },
  {
   "cell_type": "markdown",
   "metadata": {
    "button": false,
    "new_sheet": false,
    "run_control": {
     "read_only": false
    }
   },
   "source": [
    "<a id=\"item3\"></a>\n"
   ]
  },
  {
   "cell_type": "markdown",
   "metadata": {
    "button": false,
    "new_sheet": false,
    "run_control": {
     "read_only": false
    }
   },
   "source": [
    "## 3. Search a Foursquare User\n",
    "\n",
    "> `https://api.foursquare.com/v2/users/`**USER_ID**`?client_id=`**CLIENT_ID**`&client_secret=`**CLIENT_SECRET**`&v=`**VERSION**\n"
   ]
  },
  {
   "cell_type": "markdown",
   "metadata": {
    "button": false,
    "new_sheet": false,
    "run_control": {
     "read_only": false
    }
   },
   "source": [
    "### Define URL, send GET request and display features associated with user\n"
   ]
  },
  {
   "cell_type": "code",
   "execution_count": 21,
   "metadata": {
    "button": false,
    "collapsed": false,
    "jupyter": {
     "outputs_hidden": false
    },
    "new_sheet": false,
    "run_control": {
     "read_only": false
    }
   },
   "outputs": [
    {
     "name": "stderr",
     "output_type": "stream",
     "text": [
      "/home/jupyterlab/conda/envs/python/lib/python3.6/site-packages/ipykernel_launcher.py:12: FutureWarning: Passing a negative integer is deprecated in version 1.0 and will not be supported in future version. Instead, use None to not limit the column width.\n",
      "  if sys.path[0] == '':\n",
      "/home/jupyterlab/conda/envs/python/lib/python3.6/site-packages/ipykernel_launcher.py:14: FutureWarning: pandas.io.json.json_normalize is deprecated, use pandas.json_normalize instead\n",
      "  \n"
     ]
    },
    {
     "data": {
      "text/html": [
       "<div>\n",
       "<style scoped>\n",
       "    .dataframe tbody tr th:only-of-type {\n",
       "        vertical-align: middle;\n",
       "    }\n",
       "\n",
       "    .dataframe tbody tr th {\n",
       "        vertical-align: top;\n",
       "    }\n",
       "\n",
       "    .dataframe thead th {\n",
       "        text-align: right;\n",
       "    }\n",
       "</style>\n",
       "<table border=\"1\" class=\"dataframe\">\n",
       "  <thead>\n",
       "    <tr style=\"text-align: right;\">\n",
       "      <th></th>\n",
       "      <th>id</th>\n",
       "      <th>user.id</th>\n",
       "      <th>user.firstName</th>\n",
       "      <th>user.lastName</th>\n",
       "    </tr>\n",
       "  </thead>\n",
       "  <tbody>\n",
       "    <tr>\n",
       "      <th>0</th>\n",
       "      <td>57099084498e6e5b94d5a312</td>\n",
       "      <td>133773133</td>\n",
       "      <td>Cesar</td>\n",
       "      <td>H. Gamboa</td>\n",
       "    </tr>\n",
       "    <tr>\n",
       "      <th>1</th>\n",
       "      <td>541e1d3b498e8e793290f7cd</td>\n",
       "      <td>30238440</td>\n",
       "      <td>Cesar</td>\n",
       "      <td>H. Gamboa</td>\n",
       "    </tr>\n",
       "    <tr>\n",
       "      <th>2</th>\n",
       "      <td>53cb1c82498ef31f2f2eba34</td>\n",
       "      <td>51713900</td>\n",
       "      <td>Marcs</td>\n",
       "      <td>Marquez Mejorada</td>\n",
       "    </tr>\n",
       "  </tbody>\n",
       "</table>\n",
       "</div>"
      ],
      "text/plain": [
       "                         id    user.id user.firstName     user.lastName\n",
       "0  57099084498e6e5b94d5a312  133773133  Cesar          H. Gamboa       \n",
       "1  541e1d3b498e8e793290f7cd  30238440   Cesar          H. Gamboa       \n",
       "2  53cb1c82498ef31f2f2eba34  51713900   Marcs          Marquez Mejorada"
      ]
     },
     "execution_count": 21,
     "metadata": {},
     "output_type": "execute_result"
    }
   ],
   "source": [
    "idnumber = '48454224' # user ID with most agree counts and complete profile\n",
    "\n",
    "url = 'https://api.foursquare.com/v2/users/{}/tips?client_id={}&client_secret={}&oauth_token={}&v={}'.format(idnumber, CLIENT_ID, CLIENT_SECRET, ACCESS_TOKEN,VERSION) # define URL\n",
    "\n",
    "# send GET request\n",
    "results = requests.get(url).json()\n",
    "#user_data = results['response']['user']\n",
    "user_data=results['response']['tips']['items'][0]['venue']['photos']['groups'][0]['items']#['items']\n",
    "# display features associated with user\n",
    "#user_data.keys()\n",
    "#results\n",
    "pd.set_option('display.max_colwidth', -1)\n",
    "\n",
    "users_df = json_normalize(user_data)\n",
    "\n",
    "# filter columns\n",
    "filtered_columns = ['id','user.id','user.firstName','user.lastName']\n",
    "tips_filtered = users_df.loc[:, filtered_columns]\n",
    "\n",
    "# display user's tips\n",
    "df=tips_filtered\n",
    "df\n",
    "#url"
   ]
  },
  {
   "cell_type": "code",
   "execution_count": 22,
   "metadata": {},
   "outputs": [
    {
     "name": "stdout",
     "output_type": "stream",
     "text": [
      "0    First Name: Cesar\n",
      "Name: user.firstName, dtype: object\n",
      "0    Last Name: H. Gamboa\n",
      "Name: user.lastName, dtype: object\n"
     ]
    }
   ],
   "source": [
    "\n",
    "g=df.loc[df['user.id'] == '133773133']\n",
    "print('First Name: ' + g['user.firstName'])\n",
    "print('Last Name: ' + g['user.lastName'])\n"
   ]
  },
  {
   "cell_type": "markdown",
   "metadata": {},
   "source": [
    "### Retrieve the User's Profile Image\n"
   ]
  },
  {
   "cell_type": "code",
   "execution_count": 23,
   "metadata": {},
   "outputs": [
    {
     "data": {
      "text/html": [
       "<img src=\"https://fastly.4sqi.net/img/general/540x920/133773133_ODR5Au05ENkSyu3xxfV3VOfCa0idDfm9Q4n8YbhZDRQ.jpg\"/>"
      ],
      "text/plain": [
       "<IPython.core.display.Image object>"
      ]
     },
     "execution_count": 23,
     "metadata": {},
     "output_type": "execute_result"
    }
   ],
   "source": [
    "# 1. grab prefix of photo\n",
    "# 2. grab suffix of photo\n",
    "# 3. concatenate them using the image size  \n",
    "Image(url='https://fastly.4sqi.net/img/general/540x920/133773133_ODR5Au05ENkSyu3xxfV3VOfCa0idDfm9Q4n8YbhZDRQ.jpg')"
   ]
  },
  {
   "cell_type": "markdown",
   "metadata": {
    "button": false,
    "new_sheet": false,
    "run_control": {
     "read_only": false
    }
   },
   "source": [
    "Wow! So it turns out that Nick is a very active Foursquare user, with more than 250 tips.\n"
   ]
  },
  {
   "cell_type": "markdown",
   "metadata": {
    "button": false,
    "new_sheet": false,
    "run_control": {
     "read_only": false
    }
   },
   "source": [
    "### Get User's tips\n"
   ]
  },
  {
   "cell_type": "code",
   "execution_count": 24,
   "metadata": {
    "button": false,
    "collapsed": false,
    "jupyter": {
     "outputs_hidden": false
    },
    "new_sheet": false,
    "run_control": {
     "read_only": false
    }
   },
   "outputs": [
    {
     "name": "stderr",
     "output_type": "stream",
     "text": [
      "/home/jupyterlab/conda/envs/python/lib/python3.6/site-packages/ipykernel_launcher.py:10: FutureWarning: Passing a negative integer is deprecated in version 1.0 and will not be supported in future version. Instead, use None to not limit the column width.\n",
      "  # Remove the CWD from sys.path while we load stuff.\n",
      "/home/jupyterlab/conda/envs/python/lib/python3.6/site-packages/ipykernel_launcher.py:12: FutureWarning: pandas.io.json.json_normalize is deprecated, use pandas.json_normalize instead\n",
      "  if sys.path[0] == '':\n"
     ]
    },
    {
     "data": {
      "text/html": [
       "<div>\n",
       "<style scoped>\n",
       "    .dataframe tbody tr th:only-of-type {\n",
       "        vertical-align: middle;\n",
       "    }\n",
       "\n",
       "    .dataframe tbody tr th {\n",
       "        vertical-align: top;\n",
       "    }\n",
       "\n",
       "    .dataframe thead th {\n",
       "        text-align: right;\n",
       "    }\n",
       "</style>\n",
       "<table border=\"1\" class=\"dataframe\">\n",
       "  <thead>\n",
       "    <tr style=\"text-align: right;\">\n",
       "      <th></th>\n",
       "      <th>text</th>\n",
       "      <th>agreeCount</th>\n",
       "      <th>disagreeCount</th>\n",
       "      <th>id</th>\n",
       "    </tr>\n",
       "  </thead>\n",
       "  <tbody>\n",
       "    <tr>\n",
       "      <th>0</th>\n",
       "      <td>You’re not a real New Yorker until you’ve shame-ordered Insomnia Cookies for delivery at 3am</td>\n",
       "      <td>1</td>\n",
       "      <td>0</td>\n",
       "      <td>5acbbd4eb1538e45373b07f5</td>\n",
       "    </tr>\n",
       "    <tr>\n",
       "      <th>1</th>\n",
       "      <td>Good for you yet still tasty! Clean green protein is my go-to after I hit the gym 💪</td>\n",
       "      <td>2</td>\n",
       "      <td>0</td>\n",
       "      <td>5acbbcda01235808d5d6dc75</td>\n",
       "    </tr>\n",
       "    <tr>\n",
       "      <th>2</th>\n",
       "      <td>Burger game strong 💪</td>\n",
       "      <td>1</td>\n",
       "      <td>0</td>\n",
       "      <td>5ab575fb6bdee65f759da8c1</td>\n",
       "    </tr>\n",
       "    <tr>\n",
       "      <th>3</th>\n",
       "      <td>Great burgers &amp; fries! Also, this place is exactly what it’s like when you go to a bar in the Southwest. Source: I’m from Arizona.</td>\n",
       "      <td>2</td>\n",
       "      <td>0</td>\n",
       "      <td>5ab5575d73fe2516ad8f363b</td>\n",
       "    </tr>\n",
       "    <tr>\n",
       "      <th>4</th>\n",
       "      <td>Açaí bowl + peanut butter + whey protein = 💪💪💪</td>\n",
       "      <td>1</td>\n",
       "      <td>0</td>\n",
       "      <td>5ab42db53c858d64af2688a4</td>\n",
       "    </tr>\n",
       "    <tr>\n",
       "      <th>5</th>\n",
       "      <td>Highly underrated and way less crowded than Central Park!</td>\n",
       "      <td>3</td>\n",
       "      <td>0</td>\n",
       "      <td>5ab42c396f706a29f53ad1a8</td>\n",
       "    </tr>\n",
       "    <tr>\n",
       "      <th>6</th>\n",
       "      <td>Get the açaí bowl with peanut butter after your work out and thank me later 👌</td>\n",
       "      <td>1</td>\n",
       "      <td>0</td>\n",
       "      <td>5ab42aca2a7ab6333652b266</td>\n",
       "    </tr>\n",
       "    <tr>\n",
       "      <th>7</th>\n",
       "      <td>When you want a burger, this should be the first thing that comes to mind. A+!</td>\n",
       "      <td>1</td>\n",
       "      <td>0</td>\n",
       "      <td>5ab42a28da5e5617d18e3a6a</td>\n",
       "    </tr>\n",
       "    <tr>\n",
       "      <th>8</th>\n",
       "      <td>Way less crowded than Central Park! People who live in the neighborhood rave about Carl Schurz Park.</td>\n",
       "      <td>3</td>\n",
       "      <td>0</td>\n",
       "      <td>5ab429db1ffe971b060083f5</td>\n",
       "    </tr>\n",
       "    <tr>\n",
       "      <th>9</th>\n",
       "      <td>The best Mexican food in the Murray Hill / Kips Bay area!</td>\n",
       "      <td>1</td>\n",
       "      <td>0</td>\n",
       "      <td>5ab3f53f8496ca57542d5549</td>\n",
       "    </tr>\n",
       "    <tr>\n",
       "      <th>10</th>\n",
       "      <td>Best coffee shop in the neighborhood!</td>\n",
       "      <td>1</td>\n",
       "      <td>0</td>\n",
       "      <td>5ab3f428da5e5617d17d1475</td>\n",
       "    </tr>\n",
       "    <tr>\n",
       "      <th>11</th>\n",
       "      <td>When there’s nice weather, the rooftop at Tonic East is the best place to watch the game. Perfect for March Madness &amp; NBA finals!</td>\n",
       "      <td>2</td>\n",
       "      <td>0</td>\n",
       "      <td>5ab3f3fedd70c572de886c9d</td>\n",
       "    </tr>\n",
       "    <tr>\n",
       "      <th>12</th>\n",
       "      <td>Rib game level 💯</td>\n",
       "      <td>1</td>\n",
       "      <td>0</td>\n",
       "      <td>5ab3f372da2e00604ca53924</td>\n",
       "    </tr>\n",
       "    <tr>\n",
       "      <th>13</th>\n",
       "      <td>Solid option for good Mexican food, which is hard to find in Murray Hill.</td>\n",
       "      <td>5</td>\n",
       "      <td>0</td>\n",
       "      <td>5ab3f275dff815096a61884e</td>\n",
       "    </tr>\n",
       "    <tr>\n",
       "      <th>14</th>\n",
       "      <td>So good it makes me burp after every meal. I’ve been told that’s a compliment in France, so I’m going to keep doing it 🇫🇷</td>\n",
       "      <td>2</td>\n",
       "      <td>0</td>\n",
       "      <td>5ab3e8d6d0336060272dd4d9</td>\n",
       "    </tr>\n",
       "  </tbody>\n",
       "</table>\n",
       "</div>"
      ],
      "text/plain": [
       "                                                                                                                                  text  \\\n",
       "0   You’re not a real New Yorker until you’ve shame-ordered Insomnia Cookies for delivery at 3am                                         \n",
       "1   Good for you yet still tasty! Clean green protein is my go-to after I hit the gym 💪                                                  \n",
       "2   Burger game strong 💪                                                                                                                 \n",
       "3   Great burgers & fries! Also, this place is exactly what it’s like when you go to a bar in the Southwest. Source: I’m from Arizona.   \n",
       "4   Açaí bowl + peanut butter + whey protein = 💪💪💪                                                                                       \n",
       "5   Highly underrated and way less crowded than Central Park!                                                                            \n",
       "6   Get the açaí bowl with peanut butter after your work out and thank me later 👌                                                        \n",
       "7   When you want a burger, this should be the first thing that comes to mind. A+!                                                       \n",
       "8   Way less crowded than Central Park! People who live in the neighborhood rave about Carl Schurz Park.                                 \n",
       "9   The best Mexican food in the Murray Hill / Kips Bay area!                                                                            \n",
       "10  Best coffee shop in the neighborhood!                                                                                                \n",
       "11  When there’s nice weather, the rooftop at Tonic East is the best place to watch the game. Perfect for March Madness & NBA finals!    \n",
       "12  Rib game level 💯                                                                                                                     \n",
       "13  Solid option for good Mexican food, which is hard to find in Murray Hill.                                                            \n",
       "14  So good it makes me burp after every meal. I’ve been told that’s a compliment in France, so I’m going to keep doing it 🇫🇷            \n",
       "\n",
       "    agreeCount  disagreeCount                        id  \n",
       "0   1           0              5acbbd4eb1538e45373b07f5  \n",
       "1   2           0              5acbbcda01235808d5d6dc75  \n",
       "2   1           0              5ab575fb6bdee65f759da8c1  \n",
       "3   2           0              5ab5575d73fe2516ad8f363b  \n",
       "4   1           0              5ab42db53c858d64af2688a4  \n",
       "5   3           0              5ab42c396f706a29f53ad1a8  \n",
       "6   1           0              5ab42aca2a7ab6333652b266  \n",
       "7   1           0              5ab42a28da5e5617d18e3a6a  \n",
       "8   3           0              5ab429db1ffe971b060083f5  \n",
       "9   1           0              5ab3f53f8496ca57542d5549  \n",
       "10  1           0              5ab3f428da5e5617d17d1475  \n",
       "11  2           0              5ab3f3fedd70c572de886c9d  \n",
       "12  1           0              5ab3f372da2e00604ca53924  \n",
       "13  5           0              5ab3f275dff815096a61884e  \n",
       "14  2           0              5ab3e8d6d0336060272dd4d9  "
      ]
     },
     "execution_count": 24,
     "metadata": {},
     "output_type": "execute_result"
    }
   ],
   "source": [
    "# define tips URL\n",
    "user_id='484542633'\n",
    "url = 'https://api.foursquare.com/v2/users/{}/tips?client_id={}&client_secret={}&oauth_token={}&v={}&limit={}'.format(user_id, CLIENT_ID, CLIENT_SECRET,ACCESS_TOKEN,VERSION, limit)\n",
    "\n",
    "# send GET request and get user's tips\n",
    "results = requests.get(url).json()\n",
    "tips = results['response']['tips']['items']\n",
    "\n",
    "# format column width\n",
    "pd.set_option('display.max_colwidth', -1)\n",
    "\n",
    "tips_df = json_normalize(tips)\n",
    "\n",
    "# filter columns\n",
    "filtered_columns = ['text', 'agreeCount', 'disagreeCount', 'id']\n",
    "tips_filtered = tips_df.loc[:, filtered_columns]\n",
    "\n",
    "# display user's tips\n",
    "tips_filtered"
   ]
  },
  {
   "cell_type": "markdown",
   "metadata": {
    "button": false,
    "new_sheet": false,
    "run_control": {
     "read_only": false
    }
   },
   "source": [
    "#### Let's get the venue for the tip with the greatest number of agree counts\n"
   ]
  },
  {
   "cell_type": "code",
   "execution_count": 25,
   "metadata": {
    "button": false,
    "collapsed": false,
    "jupyter": {
     "outputs_hidden": false
    },
    "new_sheet": false,
    "run_control": {
     "read_only": false
    }
   },
   "outputs": [
    {
     "name": "stdout",
     "output_type": "stream",
     "text": [
      "Tres Bar\n",
      "{'lat': 20.17693758560229, 'lng': -98.04832423694748, 'labeledLatLngs': [{'label': 'display', 'lat': 20.17693758560229, 'lng': -98.04832423694748}], 'cc': 'MX', 'country': 'México', 'formattedAddress': ['México']}\n"
     ]
    }
   ],
   "source": [
    "tip_id = '5ab5575d73fe2516ad8f363b' # tip id\n",
    "\n",
    "# define URL\n",
    "url = 'https://api.foursquare.com/v2/users/{}/tips?client_id={}&client_secret={}&oauth_token={}&v={}'.format(idnumber, CLIENT_ID, CLIENT_SECRET,ACCESS_TOKEN, VERSION) # define URL\n",
    "\n",
    "\n",
    "# send GET Request and examine results\n",
    "result = requests.get(url).json()\n",
    "print(result['response']['tips']['items'][0]['venue']['name'])\n",
    "print(result['response']['tips']['items'][0]['venue']['location'])"
   ]
  },
  {
   "cell_type": "markdown",
   "metadata": {
    "button": false,
    "new_sheet": false,
    "run_control": {
     "read_only": false
    }
   },
   "source": [
    "## 4. Explore a location\n",
    "\n",
    "> `https://api.foursquare.com/v2/venues/`**explore**`?client_id=`**CLIENT_ID**`&client_secret=`**CLIENT_SECRET**`&ll=`**LATITUDE**`,`**LONGITUDE**`&v=`**VERSION**`&limit=`**LIMIT**\n"
   ]
  },
  {
   "cell_type": "markdown",
   "metadata": {
    "button": false,
    "new_sheet": false,
    "run_control": {
     "read_only": false
    }
   },
   "source": [
    "#### So, you just finished your gourmet dish at Ecco, and are just curious about the popular spots around the restaurant. In order to explore the area, let's start by getting the latitude and longitude values of Ecco Restaurant.\n"
   ]
  },
  {
   "cell_type": "code",
   "execution_count": 26,
   "metadata": {
    "button": false,
    "new_sheet": false,
    "run_control": {
     "read_only": false
    }
   },
   "outputs": [],
   "source": [
    "latitude = 40.715337\n",
    "longitude = -74.008848"
   ]
  },
  {
   "cell_type": "markdown",
   "metadata": {
    "button": false,
    "new_sheet": false,
    "run_control": {
     "read_only": false
    }
   },
   "source": [
    "#### Define URL\n"
   ]
  },
  {
   "cell_type": "code",
   "execution_count": 27,
   "metadata": {
    "button": false,
    "collapsed": false,
    "jupyter": {
     "outputs_hidden": false
    },
    "new_sheet": false,
    "run_control": {
     "read_only": false
    }
   },
   "outputs": [
    {
     "data": {
      "text/plain": [
       "'https://api.foursquare.com/v2/venues/explore?client_id=0URO1O34DDEKYCW0LGTEM0FYCND1KJO2EUIFKDRSGDRW3ANX&client_secret=KWQZIUBNSY0M1TUCU3TBYFWDXEEZUVO5WUAKUIMXBGDSQLQP&ll=40.715337,-74.008848&v=20180604&radius=500&limit=30'"
      ]
     },
     "execution_count": 27,
     "metadata": {},
     "output_type": "execute_result"
    }
   ],
   "source": [
    "url = 'https://api.foursquare.com/v2/venues/explore?client_id={}&client_secret={}&ll={},{}&v={}&radius={}&limit={}'.format(CLIENT_ID, CLIENT_SECRET, latitude, longitude, VERSION, radius, LIMIT)\n",
    "url"
   ]
  },
  {
   "cell_type": "markdown",
   "metadata": {
    "button": false,
    "new_sheet": false,
    "run_control": {
     "read_only": false
    }
   },
   "source": [
    "#### Send GET request and examine results\n"
   ]
  },
  {
   "cell_type": "code",
   "execution_count": 28,
   "metadata": {
    "button": false,
    "new_sheet": false,
    "run_control": {
     "read_only": false
    }
   },
   "outputs": [],
   "source": [
    "import requests"
   ]
  },
  {
   "cell_type": "code",
   "execution_count": 29,
   "metadata": {
    "button": false,
    "collapsed": false,
    "jupyter": {
     "outputs_hidden": false
    },
    "new_sheet": false,
    "run_control": {
     "read_only": false
    }
   },
   "outputs": [
    {
     "data": {
      "text/plain": [
       "'There are 30 around Ecco restaurant.'"
      ]
     },
     "execution_count": 29,
     "metadata": {},
     "output_type": "execute_result"
    }
   ],
   "source": [
    "results = requests.get(url).json()\n",
    "'There are {} around Ecco restaurant.'.format(len(results['response']['groups'][0]['items']))"
   ]
  },
  {
   "cell_type": "markdown",
   "metadata": {
    "button": false,
    "new_sheet": false,
    "run_control": {
     "read_only": false
    }
   },
   "source": [
    "#### Get relevant part of JSON\n"
   ]
  },
  {
   "cell_type": "code",
   "execution_count": 30,
   "metadata": {
    "button": false,
    "collapsed": false,
    "jupyter": {
     "outputs_hidden": false
    },
    "new_sheet": false,
    "run_control": {
     "read_only": false
    }
   },
   "outputs": [
    {
     "data": {
      "text/plain": [
       "{'reasons': {'count': 0,\n",
       "  'items': [{'summary': 'This spot is popular',\n",
       "    'type': 'general',\n",
       "    'reasonName': 'globalInteractionReason'}]},\n",
       " 'venue': {'id': '5d5f24ec09484500079aee00',\n",
       "  'name': 'Los Tacos No. 1',\n",
       "  'location': {'address': '136 Church St',\n",
       "   'lat': 40.714267,\n",
       "   'lng': -74.008756,\n",
       "   'labeledLatLngs': [{'label': 'display',\n",
       "     'lat': 40.714267,\n",
       "     'lng': -74.008756}],\n",
       "   'distance': 119,\n",
       "   'postalCode': '10007',\n",
       "   'cc': 'US',\n",
       "   'city': 'New York',\n",
       "   'state': 'NY',\n",
       "   'country': 'United States',\n",
       "   'formattedAddress': ['136 Church St',\n",
       "    'New York, NY 10007',\n",
       "    'United States']},\n",
       "  'categories': [{'id': '4bf58dd8d48988d151941735',\n",
       "    'name': 'Taco Place',\n",
       "    'pluralName': 'Taco Places',\n",
       "    'shortName': 'Tacos',\n",
       "    'icon': {'prefix': 'https://ss3.4sqi.net/img/categories_v2/food/taco_',\n",
       "     'suffix': '.png'},\n",
       "    'primary': True}],\n",
       "  'delivery': {'id': '2180700',\n",
       "   'url': 'https://www.seamless.com/menu/los-tacos-no-1-tribeca-136-church-st-new-york/2180700?affiliate=1131&utm_source=foursquare-affiliate-network&utm_medium=affiliate&utm_campaign=1131&utm_content=2180700',\n",
       "   'provider': {'name': 'seamless',\n",
       "    'icon': {'prefix': 'https://fastly.4sqi.net/img/general/cap/',\n",
       "     'sizes': [40, 50],\n",
       "     'name': '/delivery_provider_seamless_20180129.png'}}},\n",
       "  'photos': {'count': 0, 'groups': []}},\n",
       " 'referralId': 'e-0-5d5f24ec09484500079aee00-0'}"
      ]
     },
     "execution_count": 30,
     "metadata": {},
     "output_type": "execute_result"
    }
   ],
   "source": [
    "items = results['response']['groups'][0]['items']\n",
    "items[0]"
   ]
  },
  {
   "cell_type": "markdown",
   "metadata": {
    "button": false,
    "new_sheet": false,
    "run_control": {
     "read_only": false
    }
   },
   "source": [
    "#### Process JSON and convert it to a clean dataframe\n"
   ]
  },
  {
   "cell_type": "code",
   "execution_count": 31,
   "metadata": {
    "button": false,
    "collapsed": false,
    "jupyter": {
     "outputs_hidden": false
    },
    "new_sheet": false,
    "run_control": {
     "read_only": false
    }
   },
   "outputs": [
    {
     "name": "stderr",
     "output_type": "stream",
     "text": [
      "/home/jupyterlab/conda/envs/python/lib/python3.6/site-packages/ipykernel_launcher.py:1: FutureWarning: pandas.io.json.json_normalize is deprecated, use pandas.json_normalize instead\n",
      "  \"\"\"Entry point for launching an IPython kernel.\n"
     ]
    },
    {
     "data": {
      "text/html": [
       "<div>\n",
       "<style scoped>\n",
       "    .dataframe tbody tr th:only-of-type {\n",
       "        vertical-align: middle;\n",
       "    }\n",
       "\n",
       "    .dataframe tbody tr th {\n",
       "        vertical-align: top;\n",
       "    }\n",
       "\n",
       "    .dataframe thead th {\n",
       "        text-align: right;\n",
       "    }\n",
       "</style>\n",
       "<table border=\"1\" class=\"dataframe\">\n",
       "  <thead>\n",
       "    <tr style=\"text-align: right;\">\n",
       "      <th></th>\n",
       "      <th>name</th>\n",
       "      <th>categories</th>\n",
       "      <th>address</th>\n",
       "      <th>lat</th>\n",
       "      <th>lng</th>\n",
       "      <th>labeledLatLngs</th>\n",
       "      <th>distance</th>\n",
       "      <th>postalCode</th>\n",
       "      <th>cc</th>\n",
       "      <th>city</th>\n",
       "      <th>state</th>\n",
       "      <th>country</th>\n",
       "      <th>formattedAddress</th>\n",
       "      <th>crossStreet</th>\n",
       "      <th>neighborhood</th>\n",
       "      <th>id</th>\n",
       "    </tr>\n",
       "  </thead>\n",
       "  <tbody>\n",
       "    <tr>\n",
       "      <th>0</th>\n",
       "      <td>Los Tacos No. 1</td>\n",
       "      <td>Taco Place</td>\n",
       "      <td>136 Church St</td>\n",
       "      <td>40.714267</td>\n",
       "      <td>-74.008756</td>\n",
       "      <td>[{'label': 'display', 'lat': 40.714267, 'lng': -74.008756}]</td>\n",
       "      <td>119</td>\n",
       "      <td>10007</td>\n",
       "      <td>US</td>\n",
       "      <td>New York</td>\n",
       "      <td>NY</td>\n",
       "      <td>United States</td>\n",
       "      <td>[136 Church St, New York, NY 10007, United States]</td>\n",
       "      <td>NaN</td>\n",
       "      <td>NaN</td>\n",
       "      <td>5d5f24ec09484500079aee00</td>\n",
       "    </tr>\n",
       "    <tr>\n",
       "      <th>1</th>\n",
       "      <td>Korin</td>\n",
       "      <td>Furniture / Home Store</td>\n",
       "      <td>57 Warren St</td>\n",
       "      <td>40.714824</td>\n",
       "      <td>-74.009404</td>\n",
       "      <td>[{'label': 'display', 'lat': 40.71482437714839, 'lng': -74.00940425461492}, {'label': 'entrance', 'lat': 40.714727, 'lng': -74.009399}]</td>\n",
       "      <td>73</td>\n",
       "      <td>10007</td>\n",
       "      <td>US</td>\n",
       "      <td>New York</td>\n",
       "      <td>NY</td>\n",
       "      <td>United States</td>\n",
       "      <td>[57 Warren St (Church St), New York, NY 10007, United States]</td>\n",
       "      <td>Church St</td>\n",
       "      <td>Tribeca</td>\n",
       "      <td>4af5d65ff964a52091fd21e3</td>\n",
       "    </tr>\n",
       "    <tr>\n",
       "      <th>2</th>\n",
       "      <td>Juice Press</td>\n",
       "      <td>Vegetarian / Vegan Restaurant</td>\n",
       "      <td>83 Murray St</td>\n",
       "      <td>40.714788</td>\n",
       "      <td>-74.011132</td>\n",
       "      <td>[{'label': 'display', 'lat': 40.71478769908051, 'lng': -74.0111317502157}]</td>\n",
       "      <td>202</td>\n",
       "      <td>10007</td>\n",
       "      <td>US</td>\n",
       "      <td>New York</td>\n",
       "      <td>NY</td>\n",
       "      <td>United States</td>\n",
       "      <td>[83 Murray St (btwn Greenwich St &amp; W Broadway), New York, NY 10007, United States]</td>\n",
       "      <td>btwn Greenwich St &amp; W Broadway</td>\n",
       "      <td>NaN</td>\n",
       "      <td>54148bc6498ea7bb8c05b70a</td>\n",
       "    </tr>\n",
       "    <tr>\n",
       "      <th>3</th>\n",
       "      <td>Takahachi Bakery</td>\n",
       "      <td>Bakery</td>\n",
       "      <td>25 Murray St</td>\n",
       "      <td>40.713653</td>\n",
       "      <td>-74.008804</td>\n",
       "      <td>[{'label': 'display', 'lat': 40.713652845301894, 'lng': -74.0088038953017}, {'label': 'entrance', 'lat': 40.713716, 'lng': -74.008443}]</td>\n",
       "      <td>187</td>\n",
       "      <td>10007</td>\n",
       "      <td>US</td>\n",
       "      <td>New York</td>\n",
       "      <td>NY</td>\n",
       "      <td>United States</td>\n",
       "      <td>[25 Murray St (at Church St), New York, NY 10007, United States]</td>\n",
       "      <td>at Church St</td>\n",
       "      <td>NaN</td>\n",
       "      <td>4c154c9a77cea593c401d260</td>\n",
       "    </tr>\n",
       "    <tr>\n",
       "      <th>4</th>\n",
       "      <td>Chambers Street Wines</td>\n",
       "      <td>Wine Shop</td>\n",
       "      <td>148 Chambers St</td>\n",
       "      <td>40.715773</td>\n",
       "      <td>-74.009718</td>\n",
       "      <td>[{'label': 'display', 'lat': 40.715773063928374, 'lng': -74.00971823312332}, {'label': 'entrance', 'lat': 40.715696, 'lng': -74.00988}]</td>\n",
       "      <td>88</td>\n",
       "      <td>10007</td>\n",
       "      <td>US</td>\n",
       "      <td>New York</td>\n",
       "      <td>NY</td>\n",
       "      <td>United States</td>\n",
       "      <td>[148 Chambers St (btwn West Broadway &amp; Hudson St), New York, NY 10007, United States]</td>\n",
       "      <td>btwn West Broadway &amp; Hudson St</td>\n",
       "      <td>NaN</td>\n",
       "      <td>4adcf23cf964a520cc6221e3</td>\n",
       "    </tr>\n",
       "    <tr>\n",
       "      <th>5</th>\n",
       "      <td>Heyday</td>\n",
       "      <td>Spa</td>\n",
       "      <td>92 Reade St</td>\n",
       "      <td>40.715726</td>\n",
       "      <td>-74.007767</td>\n",
       "      <td>[{'label': 'display', 'lat': 40.715726, 'lng': -74.007767}, {'label': 'entrance', 'lat': 40.715654, 'lng': -74.00782}]</td>\n",
       "      <td>100</td>\n",
       "      <td>10013</td>\n",
       "      <td>US</td>\n",
       "      <td>New York</td>\n",
       "      <td>NY</td>\n",
       "      <td>United States</td>\n",
       "      <td>[92 Reade St, New York, NY 10013, United States]</td>\n",
       "      <td>NaN</td>\n",
       "      <td>NaN</td>\n",
       "      <td>57ad129c498e05b086594d72</td>\n",
       "    </tr>\n",
       "    <tr>\n",
       "      <th>6</th>\n",
       "      <td>Takahachi</td>\n",
       "      <td>Sushi Restaurant</td>\n",
       "      <td>145 Duane St</td>\n",
       "      <td>40.716526</td>\n",
       "      <td>-74.008101</td>\n",
       "      <td>[{'label': 'display', 'lat': 40.71652647412374, 'lng': -74.00810108466207}, {'label': 'entrance', 'lat': 40.716508, 'lng': -74.007989}]</td>\n",
       "      <td>146</td>\n",
       "      <td>10013</td>\n",
       "      <td>US</td>\n",
       "      <td>New York</td>\n",
       "      <td>NY</td>\n",
       "      <td>United States</td>\n",
       "      <td>[145 Duane St (btwn W Broadway &amp; Church St), New York, NY 10013, United States]</td>\n",
       "      <td>btwn W Broadway &amp; Church St</td>\n",
       "      <td>NaN</td>\n",
       "      <td>4a8f2f39f964a520471420e3</td>\n",
       "    </tr>\n",
       "    <tr>\n",
       "      <th>7</th>\n",
       "      <td>Equinox Tribeca</td>\n",
       "      <td>Gym</td>\n",
       "      <td>54 Murray St</td>\n",
       "      <td>40.714099</td>\n",
       "      <td>-74.009686</td>\n",
       "      <td>[{'label': 'display', 'lat': 40.71409860726041, 'lng': -74.0096857179283}]</td>\n",
       "      <td>154</td>\n",
       "      <td>10007</td>\n",
       "      <td>US</td>\n",
       "      <td>New York</td>\n",
       "      <td>NY</td>\n",
       "      <td>United States</td>\n",
       "      <td>[54 Murray St (at W Broadway), New York, NY 10007, United States]</td>\n",
       "      <td>at W Broadway</td>\n",
       "      <td>NaN</td>\n",
       "      <td>4a6e331af964a52031d41fe3</td>\n",
       "    </tr>\n",
       "    <tr>\n",
       "      <th>8</th>\n",
       "      <td>Lekka Burger</td>\n",
       "      <td>Burger Joint</td>\n",
       "      <td>81 Warren St</td>\n",
       "      <td>40.715246</td>\n",
       "      <td>-74.010559</td>\n",
       "      <td>[{'label': 'display', 'lat': 40.715246, 'lng': -74.010559}]</td>\n",
       "      <td>144</td>\n",
       "      <td>10007</td>\n",
       "      <td>US</td>\n",
       "      <td>New York</td>\n",
       "      <td>NY</td>\n",
       "      <td>United States</td>\n",
       "      <td>[81 Warren St (btw Greenwich &amp; West Broadway), New York, NY 10007, United States]</td>\n",
       "      <td>btw Greenwich &amp; West Broadway</td>\n",
       "      <td>NaN</td>\n",
       "      <td>5dc6f6a5ea8dfb00080f6faa</td>\n",
       "    </tr>\n",
       "    <tr>\n",
       "      <th>9</th>\n",
       "      <td>Weather Up</td>\n",
       "      <td>Cocktail Bar</td>\n",
       "      <td>159 Duane St</td>\n",
       "      <td>40.716741</td>\n",
       "      <td>-74.008666</td>\n",
       "      <td>[{'label': 'display', 'lat': 40.71674084163369, 'lng': -74.0086664438893}, {'label': 'entrance', 'lat': 40.71685, 'lng': -74.008729}]</td>\n",
       "      <td>157</td>\n",
       "      <td>10013</td>\n",
       "      <td>US</td>\n",
       "      <td>New York</td>\n",
       "      <td>NY</td>\n",
       "      <td>United States</td>\n",
       "      <td>[159 Duane St (btwn Hudson St. &amp; W Broadway), New York, NY 10013, United States]</td>\n",
       "      <td>btwn Hudson St. &amp; W Broadway</td>\n",
       "      <td>NaN</td>\n",
       "      <td>4cd89eeb6e8b5941660c64d2</td>\n",
       "    </tr>\n",
       "  </tbody>\n",
       "</table>\n",
       "</div>"
      ],
      "text/plain": [
       "                    name                     categories          address  \\\n",
       "0  Los Tacos No. 1        Taco Place                     136 Church St     \n",
       "1  Korin                  Furniture / Home Store         57 Warren St      \n",
       "2  Juice Press            Vegetarian / Vegan Restaurant  83 Murray St      \n",
       "3  Takahachi Bakery       Bakery                         25 Murray St      \n",
       "4  Chambers Street Wines  Wine Shop                      148 Chambers St   \n",
       "5  Heyday                 Spa                            92 Reade St       \n",
       "6  Takahachi              Sushi Restaurant               145 Duane St      \n",
       "7  Equinox Tribeca        Gym                            54 Murray St      \n",
       "8  Lekka Burger           Burger Joint                   81 Warren St      \n",
       "9  Weather Up             Cocktail Bar                   159 Duane St      \n",
       "\n",
       "         lat        lng  \\\n",
       "0  40.714267 -74.008756   \n",
       "1  40.714824 -74.009404   \n",
       "2  40.714788 -74.011132   \n",
       "3  40.713653 -74.008804   \n",
       "4  40.715773 -74.009718   \n",
       "5  40.715726 -74.007767   \n",
       "6  40.716526 -74.008101   \n",
       "7  40.714099 -74.009686   \n",
       "8  40.715246 -74.010559   \n",
       "9  40.716741 -74.008666   \n",
       "\n",
       "                                                                                                                            labeledLatLngs  \\\n",
       "0  [{'label': 'display', 'lat': 40.714267, 'lng': -74.008756}]                                                                               \n",
       "1  [{'label': 'display', 'lat': 40.71482437714839, 'lng': -74.00940425461492}, {'label': 'entrance', 'lat': 40.714727, 'lng': -74.009399}]   \n",
       "2  [{'label': 'display', 'lat': 40.71478769908051, 'lng': -74.0111317502157}]                                                                \n",
       "3  [{'label': 'display', 'lat': 40.713652845301894, 'lng': -74.0088038953017}, {'label': 'entrance', 'lat': 40.713716, 'lng': -74.008443}]   \n",
       "4  [{'label': 'display', 'lat': 40.715773063928374, 'lng': -74.00971823312332}, {'label': 'entrance', 'lat': 40.715696, 'lng': -74.00988}]   \n",
       "5  [{'label': 'display', 'lat': 40.715726, 'lng': -74.007767}, {'label': 'entrance', 'lat': 40.715654, 'lng': -74.00782}]                    \n",
       "6  [{'label': 'display', 'lat': 40.71652647412374, 'lng': -74.00810108466207}, {'label': 'entrance', 'lat': 40.716508, 'lng': -74.007989}]   \n",
       "7  [{'label': 'display', 'lat': 40.71409860726041, 'lng': -74.0096857179283}]                                                                \n",
       "8  [{'label': 'display', 'lat': 40.715246, 'lng': -74.010559}]                                                                               \n",
       "9  [{'label': 'display', 'lat': 40.71674084163369, 'lng': -74.0086664438893}, {'label': 'entrance', 'lat': 40.71685, 'lng': -74.008729}]     \n",
       "\n",
       "   distance postalCode  cc      city state        country  \\\n",
       "0  119       10007      US  New York  NY    United States   \n",
       "1  73        10007      US  New York  NY    United States   \n",
       "2  202       10007      US  New York  NY    United States   \n",
       "3  187       10007      US  New York  NY    United States   \n",
       "4  88        10007      US  New York  NY    United States   \n",
       "5  100       10013      US  New York  NY    United States   \n",
       "6  146       10013      US  New York  NY    United States   \n",
       "7  154       10007      US  New York  NY    United States   \n",
       "8  144       10007      US  New York  NY    United States   \n",
       "9  157       10013      US  New York  NY    United States   \n",
       "\n",
       "                                                                        formattedAddress  \\\n",
       "0  [136 Church St, New York, NY 10007, United States]                                      \n",
       "1  [57 Warren St (Church St), New York, NY 10007, United States]                           \n",
       "2  [83 Murray St (btwn Greenwich St & W Broadway), New York, NY 10007, United States]      \n",
       "3  [25 Murray St (at Church St), New York, NY 10007, United States]                        \n",
       "4  [148 Chambers St (btwn West Broadway & Hudson St), New York, NY 10007, United States]   \n",
       "5  [92 Reade St, New York, NY 10013, United States]                                        \n",
       "6  [145 Duane St (btwn W Broadway & Church St), New York, NY 10013, United States]         \n",
       "7  [54 Murray St (at W Broadway), New York, NY 10007, United States]                       \n",
       "8  [81 Warren St (btw Greenwich & West Broadway), New York, NY 10007, United States]       \n",
       "9  [159 Duane St (btwn Hudson St. & W Broadway), New York, NY 10013, United States]        \n",
       "\n",
       "                      crossStreet neighborhood                        id  \n",
       "0  NaN                             NaN          5d5f24ec09484500079aee00  \n",
       "1  Church St                       Tribeca      4af5d65ff964a52091fd21e3  \n",
       "2  btwn Greenwich St & W Broadway  NaN          54148bc6498ea7bb8c05b70a  \n",
       "3  at Church St                    NaN          4c154c9a77cea593c401d260  \n",
       "4  btwn West Broadway & Hudson St  NaN          4adcf23cf964a520cc6221e3  \n",
       "5  NaN                             NaN          57ad129c498e05b086594d72  \n",
       "6  btwn W Broadway & Church St     NaN          4a8f2f39f964a520471420e3  \n",
       "7  at W Broadway                   NaN          4a6e331af964a52031d41fe3  \n",
       "8  btw Greenwich & West Broadway   NaN          5dc6f6a5ea8dfb00080f6faa  \n",
       "9  btwn Hudson St. & W Broadway    NaN          4cd89eeb6e8b5941660c64d2  "
      ]
     },
     "execution_count": 31,
     "metadata": {},
     "output_type": "execute_result"
    }
   ],
   "source": [
    "dataframe = json_normalize(items) # flatten JSON\n",
    "\n",
    "# filter columns\n",
    "filtered_columns = ['venue.name', 'venue.categories'] + [col for col in dataframe.columns if col.startswith('venue.location.')] + ['venue.id']\n",
    "dataframe_filtered = dataframe.loc[:, filtered_columns]\n",
    "\n",
    "# filter the category for each row\n",
    "dataframe_filtered['venue.categories'] = dataframe_filtered.apply(get_category_type, axis=1)\n",
    "\n",
    "# clean columns\n",
    "dataframe_filtered.columns = [col.split('.')[-1] for col in dataframe_filtered.columns]\n",
    "\n",
    "dataframe_filtered.head(10)"
   ]
  },
  {
   "cell_type": "markdown",
   "metadata": {
    "button": false,
    "new_sheet": false,
    "run_control": {
     "read_only": false
    }
   },
   "source": [
    "#### Let's visualize these items on the map around our location\n"
   ]
  },
  {
   "cell_type": "code",
   "execution_count": 32,
   "metadata": {
    "button": false,
    "collapsed": false,
    "jupyter": {
     "outputs_hidden": false
    },
    "new_sheet": false,
    "run_control": {
     "read_only": false
    },
    "scrolled": true
   },
   "outputs": [
    {
     "data": {
      "text/html": [
       "<div style=\"width:100%;\"><div style=\"position:relative;width:100%;height:0;padding-bottom:60%;\"><span style=\"color:#565656\">Make this Notebook Trusted to load map: File -> Trust Notebook</span><iframe src=\"about:blank\" style=\"position:absolute;width:100%;height:100%;left:0;top:0;border:none !important;\" data-html=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 onload=\"this.contentDocument.open();this.contentDocument.write(atob(this.getAttribute('data-html')));this.contentDocument.close();\" allowfullscreen webkitallowfullscreen mozallowfullscreen></iframe></div></div>"
      ],
      "text/plain": [
       "<folium.folium.Map at 0x7f5508768fd0>"
      ]
     },
     "execution_count": 32,
     "metadata": {},
     "output_type": "execute_result"
    }
   ],
   "source": [
    "venues_map = folium.Map(location=[latitude, longitude], zoom_start=15) # generate map centred around Ecco\n",
    "\n",
    "\n",
    "# add Ecco as a red circle mark\n",
    "folium.CircleMarker(\n",
    "    [latitude, longitude],\n",
    "    radius=10,\n",
    "    popup='Ecco',\n",
    "    fill=True,\n",
    "    color='red',\n",
    "    fill_color='red',\n",
    "    fill_opacity=0.6\n",
    "    ).add_to(venues_map)\n",
    "\n",
    "\n",
    "# add popular spots to the map as blue circle markers\n",
    "for lat, lng, label in zip(dataframe_filtered.lat, dataframe_filtered.lng, dataframe_filtered.categories):\n",
    "    folium.CircleMarker(\n",
    "        [lat, lng],\n",
    "        radius=5,\n",
    "        popup=label,\n",
    "        fill=True,\n",
    "        color='blue',\n",
    "        fill_color='blue',\n",
    "        fill_opacity=0.6\n",
    "        ).add_to(venues_map)\n",
    "\n",
    "# display map\n",
    "venues_map"
   ]
  },
  {
   "cell_type": "markdown",
   "metadata": {
    "button": false,
    "new_sheet": false,
    "run_control": {
     "read_only": false
    }
   },
   "source": [
    "\n"
   ]
  },
  {
   "cell_type": "markdown",
   "metadata": {
    "button": false,
    "new_sheet": false,
    "run_control": {
     "read_only": false
    }
   },
   "source": [
    "<a id=\"item5\"></a>\n"
   ]
  },
  {
   "cell_type": "markdown",
   "metadata": {
    "button": false,
    "new_sheet": false,
    "run_control": {
     "read_only": false
    }
   },
   "source": [
    "## 5. Explore Trending Venues\n",
    "\n",
    "> `https://api.foursquare.com/v2/venues/`**trending**`?client_id=`**CLIENT_ID**`&client_secret=`**CLIENT_SECRET**`&ll=`**LATITUDE**`,`**LONGITUDE**`&v=`**VERSION**\n"
   ]
  },
  {
   "cell_type": "markdown",
   "metadata": {
    "button": false,
    "new_sheet": false,
    "run_control": {
     "read_only": false
    }
   },
   "source": [
    "#### Now, instead of simply exploring the area around Ecco, you are interested in knowing the venues that are trending at the time you are done with your lunch, meaning the places with the highest foot traffic. So let's do that and get the trending venues around Ecco.\n"
   ]
  },
  {
   "cell_type": "code",
   "execution_count": 33,
   "metadata": {
    "button": false,
    "collapsed": false,
    "jupyter": {
     "outputs_hidden": false
    },
    "new_sheet": false,
    "run_control": {
     "read_only": false
    }
   },
   "outputs": [
    {
     "data": {
      "text/plain": [
       "{'meta': {'code': 200, 'requestId': '60111a6393aad04bb12363dc'},\n",
       " 'response': {'venues': []}}"
      ]
     },
     "execution_count": 33,
     "metadata": {},
     "output_type": "execute_result"
    }
   ],
   "source": [
    "# define URL\n",
    "url = 'https://api.foursquare.com/v2/venues/trending?client_id={}&client_secret={}&ll={},{}&v={}'.format(CLIENT_ID, CLIENT_SECRET, latitude, longitude, VERSION)\n",
    "\n",
    "# send GET request and get trending venues\n",
    "results = requests.get(url).json()\n",
    "results"
   ]
  },
  {
   "cell_type": "markdown",
   "metadata": {
    "button": false,
    "new_sheet": false,
    "run_control": {
     "read_only": false
    }
   },
   "source": [
    "### Check if any venues are trending at this time\n"
   ]
  },
  {
   "cell_type": "code",
   "execution_count": 34,
   "metadata": {
    "button": false,
    "new_sheet": false,
    "run_control": {
     "read_only": false
    }
   },
   "outputs": [],
   "source": [
    "if len(results['response']['venues']) == 0:\n",
    "    trending_venues_df = 'No trending venues are available at the moment!'\n",
    "    \n",
    "else:\n",
    "    trending_venues = results['response']['venues']\n",
    "    trending_venues_df = json_normalize(trending_venues)\n",
    "\n",
    "    # filter columns\n",
    "    columns_filtered = ['name', 'categories'] + ['location.distance', 'location.city', 'location.postalCode', 'location.state', 'location.country', 'location.lat', 'location.lng']\n",
    "    trending_venues_df = trending_venues_df.loc[:, columns_filtered]\n",
    "\n",
    "    # filter the category for each row\n",
    "    trending_venues_df['categories'] = trending_venues_df.apply(get_category_type, axis=1)"
   ]
  },
  {
   "cell_type": "code",
   "execution_count": 35,
   "metadata": {
    "button": false,
    "collapsed": false,
    "jupyter": {
     "outputs_hidden": false
    },
    "new_sheet": false,
    "run_control": {
     "read_only": false
    }
   },
   "outputs": [
    {
     "data": {
      "text/plain": [
       "'No trending venues are available at the moment!'"
      ]
     },
     "execution_count": 35,
     "metadata": {},
     "output_type": "execute_result"
    }
   ],
   "source": [
    "# display trending venues\n",
    "trending_venues_df"
   ]
  },
  {
   "cell_type": "markdown",
   "metadata": {
    "button": false,
    "new_sheet": false,
    "run_control": {
     "read_only": false
    }
   },
   "source": [
    "Now, depending on when you run the above code, you might get different venues since the venues with the highest foot traffic are fetched live. \n"
   ]
  },
  {
   "cell_type": "markdown",
   "metadata": {
    "button": false,
    "new_sheet": false,
    "run_control": {
     "read_only": false
    }
   },
   "source": [
    "### Visualize trending venues\n"
   ]
  },
  {
   "cell_type": "code",
   "execution_count": 36,
   "metadata": {
    "button": false,
    "collapsed": false,
    "jupyter": {
     "outputs_hidden": false
    },
    "new_sheet": false,
    "run_control": {
     "read_only": false
    }
   },
   "outputs": [],
   "source": [
    "if len(results['response']['venues']) == 0:\n",
    "    venues_map = 'Cannot generate visual as no trending venues are available at the moment!'\n",
    "\n",
    "else:\n",
    "    venues_map = folium.Map(location=[latitude, longitude], zoom_start=15) # generate map centred around Ecco\n",
    "\n",
    "\n",
    "    # add Ecco as a red circle mark\n",
    "    folium.CircleMarker(\n",
    "        [latitude, longitude],\n",
    "        radius=10,\n",
    "        popup='Ecco',\n",
    "        fill=True,\n",
    "        color='red',\n",
    "        fill_color='red',\n",
    "        fill_opacity=0.6\n",
    "    ).add_to(venues_map)\n",
    "\n",
    "\n",
    "    # add the trending venues as blue circle markers\n",
    "    for lat, lng, label in zip(trending_venues_df['location.lat'], trending_venues_df['location.lng'], trending_venues_df['name']):\n",
    "        folium.CircleMarker(\n",
    "            [lat, lng],\n",
    "            radius=5,\n",
    "            poup=label,\n",
    "            fill=True,\n",
    "            color='blue',\n",
    "            fill_color='blue',\n",
    "            fill_opacity=0.6\n",
    "        ).add_to(venues_map)"
   ]
  },
  {
   "cell_type": "code",
   "execution_count": 37,
   "metadata": {
    "button": false,
    "collapsed": false,
    "jupyter": {
     "outputs_hidden": false
    },
    "new_sheet": false,
    "run_control": {
     "read_only": false
    },
    "scrolled": true
   },
   "outputs": [
    {
     "data": {
      "text/plain": [
       "'Cannot generate visual as no trending venues are available at the moment!'"
      ]
     },
     "execution_count": 37,
     "metadata": {},
     "output_type": "execute_result"
    }
   ],
   "source": [
    "# display map\n",
    "venues_map"
   ]
  },
  {
   "cell_type": "markdown",
   "metadata": {
    "button": false,
    "new_sheet": false,
    "run_control": {
     "read_only": false
    }
   },
   "source": [
    "<a id=\"item6\"></a>\n"
   ]
  },
  {
   "cell_type": "markdown",
   "metadata": {
    "button": false,
    "new_sheet": false,
    "run_control": {
     "read_only": false
    }
   },
   "source": [
    "\n"
   ]
  },
  {
   "cell_type": "markdown",
   "metadata": {
    "button": false,
    "new_sheet": false,
    "run_control": {
     "read_only": false
    }
   },
   "source": [
    "### Thank you for completing this lab!\n",
    "\n",
    "This notebook was created by [Alex Aklson](https://www.linkedin.com/in/aklson?cm_mmc=Email_Newsletter-_-Developer_Ed%2BTech-_-WW_WW-_-SkillsNetwork-Courses-IBMDeveloperSkillsNetwork-DS0701EN-SkillsNetwork-21253531&cm_mmca1=000026UJ&cm_mmca2=10006555&cm_mmca3=M12345678&cvosrc=email.Newsletter.M12345678&cvo_campaign=000026UJ&cm_mmc=Email_Newsletter-_-Developer_Ed%2BTech-_-WW_WW-_-SkillsNetwork-Courses-IBMDeveloperSkillsNetwork-DS0701EN-SkillsNetwork-21253531&cm_mmca1=000026UJ&cm_mmca2=10006555&cm_mmca3=M12345678&cvosrc=email.Newsletter.M12345678&cvo_campaign=000026UJ). I hope you found this lab interesting and educational. Feel free to contact me if you have any questions!\n",
    "\n",
    "This notebook modified by Nayef Abou Tayoun ([https://www.linkedin.com/in/nayefaboutayoun/](https://www.linkedin.com/in/nayefaboutayoun?cm_mmc=Email_Newsletter-_-Developer_Ed%2BTech-_-WW_WW-_-SkillsNetwork-Courses-IBMDeveloperSkillsNetwork-DS0701EN-SkillsNetwork-21253531&cm_mmca1=000026UJ&cm_mmca2=10006555&cm_mmca3=M12345678&cvosrc=email.Newsletter.M12345678&cvo_campaign=000026UJ))\n"
   ]
  },
  {
   "cell_type": "markdown",
   "metadata": {
    "button": false,
    "new_sheet": false,
    "run_control": {
     "read_only": false
    }
   },
   "source": [
    "This notebook is part of a course on **Coursera** called _Applied Data Science Capstone_. If you accessed this notebook outside the course, you can take this course online by clicking [here](http://cocl.us/DP0701EN_Coursera_Week2_LAB1).\n"
   ]
  },
  {
   "cell_type": "markdown",
   "metadata": {
    "button": false,
    "new_sheet": false,
    "run_control": {
     "read_only": false
    }
   },
   "source": [
    "## Change Log\n",
    "\n",
    "| Date (YYYY-MM-DD) | Version | Changed By    | Change Description         |\n",
    "| ----------------- | ------- | ------------- | -------------------------- |\n",
    "| 2020-11-26        | 2.0     | Lakshmi Holla | Updated the markdown cells |\n",
    "|                   |         |               |                            |\n",
    "|                   |         |               |                            |\n",
    "\n",
    "## <h3 align=\"center\"> © IBM Corporation 2020. All rights reserved. <h3/>\n"
   ]
  },
  {
   "cell_type": "code",
   "execution_count": null,
   "metadata": {},
   "outputs": [],
   "source": []
  }
 ],
 "metadata": {
  "kernelspec": {
   "display_name": "Python",
   "language": "python",
   "name": "conda-env-python-py"
  },
  "language_info": {
   "codemirror_mode": {
    "name": "ipython",
    "version": 3
   },
   "file_extension": ".py",
   "mimetype": "text/x-python",
   "name": "python",
   "nbconvert_exporter": "python",
   "pygments_lexer": "ipython3",
   "version": "3.6.12"
  },
  "widgets": {
   "state": {},
   "version": "1.1.2"
  }
 },
 "nbformat": 4,
 "nbformat_minor": 4
}
